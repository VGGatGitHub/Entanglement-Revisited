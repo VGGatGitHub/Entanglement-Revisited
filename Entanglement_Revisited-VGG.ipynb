{
 "cells": [
  {
   "cell_type": "markdown",
   "metadata": {},
   "source": [
    "## _*Entanglement Revisited*_ \n",
    "\n",
    "The original version of this notebook is available on https://github.com/QISKit/qiskit-tutorial.\n",
    "\n",
    "***\n",
    "### Original Contributors\n",
    "Jay Gambetta, Antonio Córcoles\n",
    "\n",
    "### Current Modifications and Additions\n",
    "V. G. Gueorguiev @ the Institute for Advanced Physical Studues, Sofia, Bulagaria and the Ronin Institute, NJ, USA"
   ]
  },
  {
   "cell_type": "markdown",
   "metadata": {},
   "source": [
    "## Entanglement\n",
    "\n",
    "The quantum concept of entanglement was introduced in [superposition and entanglement](superposition_and_entanglement.ipynb),  where the quantum state $|\\psi\\rangle= (|00\\rangle+|11\\rangle)/\\sqrt{2}$ and showed that (accounting for experimental noise) the system has perfect correlations in both the computational and superposition bases. This means if $q_0$ is measured in state $|0\\rangle$, we know $q_1$ is in the same state; likewise, if $q_0$ is measured in state $|+\\rangle$, we know $q_1$ is also in the same state.\n",
    "\n",
    "To understand the implications of this in more detail, we will look at the following topics in this notebook:\n",
    "* [Two-Qubit Correlated Observables](#section1)\n",
    "* [The CHSH Inequality](#section2)\n",
    "* [CHSH Inequality with Z and X Measurements](#section3)\n",
    "* [Expressing the Bell State in the Four Basis Sets](#section4)\n",
    "* [CHSH Graph](#section5)\n",
    "* [Closing Remarks](#section6)\n"
   ]
  },
  {
   "cell_type": "markdown",
   "metadata": {},
   "source": [
    "## Two-Qubit Correlated Observables<a id='section1'></a>\n",
    "\n",
    "An observable is a Hermitian matrix where the real eigenvalues represent the outcome of the experiment, and the eigenvectors are the states to which the system is projected under measurement. That is, an observable $A$ is given by\n",
    "  \n",
    "\n",
    "$$  A = \\sum_j a_j|a_j\\rangle\\langle a_j|$$ \n",
    "\n",
    "where $|a_j\\rangle$ is the eigenvector of the observable with result $a_j$. The expectation value of this observable is given by \n",
    "\n",
    "$$\\langle  A \\rangle  = \\sum_j a_j |\\langle \\psi  |a_j\\rangle|^2  = \\sum_j a_j \\mathrm{Pr}(a_j|\\psi).$$\n",
    "\n",
    "We can see that this is the standard relationship between average (expectation value) and probability. \n",
    "\n",
    "The following are important two-outcome ($\\pm1$) single-qubit observables:  \n",
    "\n",
    "$$ Z= |0\\rangle\\langle 0| - |1\\rangle\\langle 1|$$ \n",
    "$$ X= |+\\rangle\\langle +| - |-\\rangle\\langle -|$$ \n",
    "\n",
    "where $ |\\mp \\rangle = (|0\\rangle \\mp  |1\\rangle)/\\sqrt{2}$.\n",
    "\n",
    "\n",
    "These are also commonly referred to as the Pauli $Z$ and $X$ operators. These can be further extended to the two-qubit space to give \n",
    "\n",
    "$$\\langle  I\\otimes  Z\\rangle =\\mathrm{Pr}(00|\\psi) - \\mathrm{Pr}(01|\\psi) +  \\mathrm{Pr}(10|\\psi)- \\mathrm{Pr}(11|\\psi)$$ \n",
    "$$\\langle  Z\\otimes  I\\rangle =\\mathrm{Pr}(00|\\psi) + \\mathrm{Pr}(01|\\psi) -  \\mathrm{Pr}(10|\\psi)- \\mathrm{Pr}(11|\\psi)$$ \n",
    "$$\\langle  Z\\otimes  Z\\rangle =\\mathrm{Pr}(00|\\psi) - \\mathrm{Pr}(01|\\psi) -  \\mathrm{Pr}(10|\\psi)+ \\mathrm{Pr}(11|\\psi)$$ \n",
    "\n",
    "$$\\langle  I\\otimes  X\\rangle =\\mathrm{Pr}(++|\\psi) - \\mathrm{Pr}(+-|\\psi) +  \\mathrm{Pr}(-+|\\psi)- \\mathrm{Pr}(--|\\psi)$$ \n",
    "$$\\langle  X\\otimes  I\\rangle =\\mathrm{Pr}(++|\\psi) + \\mathrm{Pr}(+-|\\psi) -  \\mathrm{Pr}(-+|\\psi)- \\mathrm{Pr}(--|\\psi)$$ \n",
    "$$\\langle  X\\otimes  X\\rangle =\\mathrm{Pr}(++|\\psi) - \\mathrm{Pr}(+-|\\psi) -  \\mathrm{Pr}(-+|\\psi)+ \\mathrm{Pr}(--|\\psi)$$ \n",
    "\n",
    "\n",
    "$$\\langle  Z\\otimes  X\\rangle =\\mathrm{Pr}(0+|\\psi) - \\mathrm{Pr}(0-|\\psi) -  \\mathrm{Pr}(1+|\\psi)+ \\mathrm{Pr}(1-|\\psi)$$ \n",
    "$$\\langle  X\\otimes  Z\\rangle =\\mathrm{Pr}(+0|\\psi) - \\mathrm{Pr}(+1|\\psi) -  \\mathrm{Pr}(-0|\\psi)+ \\mathrm{Pr}(-1|\\psi)$$ "
   ]
  },
  {
   "cell_type": "markdown",
   "metadata": {},
   "source": [
    "## The CHSH Inequality <a id='section2'></a>\n",
    "\n",
    "\n",
    "In the CHSH inequality, we measure the correlator of four observables: $A$ and $A'$ on $q_0$, and $B$ and $B'$ on $q_1$, which have eigenvalues $\\pm 1$. The CHSH inequality says that no local hidden variable theory can have  \n",
    "\n",
    "$$|C|>2$$ \n",
    "\n",
    "where \n",
    "\n",
    "$$C = \\langle B\\otimes A\\rangle + \\langle B\\otimes A'\\rangle+\\langle B'\\otimes A'\\rangle-\\langle B'\\otimes A\\rangle.$$\n",
    "\n",
    "Next, we introduce the concept of a *simple hidden variable model*. If we assume there is a hidden variable $\\lambda$ and follow these two assumptions: \n",
    "\n",
    "* _Locality_: No information can travel faster than the speed of light. There is a hidden variable $\\lambda$ that defines all the correlations so that  \n",
    "\n",
    "$$\\langle A\\otimes B\\rangle = \\sum_\\lambda P(\\lambda) A(\\lambda) B(\\lambda).$$ \n",
    "                      \n",
    "* _Realism_: All observables have a definite value independent of the measurement ($A(\\lambda)=\\pm1$ etc.).\n",
    "\n",
    "What would this look like with some hidden variable model under the locality and realism assumptions from above? \n",
    "\n",
    "$C$ then becomes \n",
    "\n",
    "$$C = \\sum_\\lambda P(\\lambda) \\{ B(\\lambda) [ A(\\lambda)+A'(\\lambda)] + B'(\\lambda) [ A'(\\lambda)-A(\\lambda)]$$\n",
    "                      \n",
    "and $[A(\\lambda)+A'(\\lambda)]=2$ (or 0) while $[A'(\\lambda)-A(\\lambda)]=0$ (or 2) respectively. \n",
    "\n",
    "Since, $\\sum_\\lambda P(\\lambda)=1$, then this gives $|C|\\le 2$, and noise will only make this smaller. \n",
    " "
   ]
  },
  {
   "cell_type": "markdown",
   "metadata": {},
   "source": [
    "## CHSH Inequality with Z and X Measurements  <a id='section3'></a>\n",
    "\n",
    "Recall that to make the Bell state $|\\psi\\rangle= (|00\\rangle+|11\\rangle)/\\sqrt{2}$ from the initial state $|00\\rangle$, the quantum circuit first applies a Hadamard on $q_0$, followed by a CNOT from $q_0$ to $q_1$. \n",
    "On the IBM Q experience, this can be done by using the script below to measure the above expectation values; we run four different experiments with measurements in the standard basis, superposition basis, and a combination of both.\n",
    "\n",
    "If we measure a number greater than 2, the above assumptions cannot be valid. For simplicity, we choose these observables to be \n",
    "\n",
    " $$C = \\langle Z\\otimes Z\\rangle + \\langle Z\\otimes X\\rangle+\\langle X\\otimes X\\rangle-\\langle X\\otimes Z\\rangle.$$\n",
    "\n",
    "$Z$ is measured in the computational basis, and $X$ in the superposition basis ($H$ is applied before measurement). \n",
    "The input state \n",
    "\n",
    "$$|\\psi(\\theta)\\rangle = I\\otimes Y(\\theta)\\frac{|00\\rangle + |11\\rangle}{\\sqrt(2)} \n",
    "= \\frac{\\cos(\\theta/2)|00\\rangle+\\sin(\\theta/2)|01\\rangle + \\cos(\\theta/2)|11\\rangle-\\sin(\\theta/2)|10\\rangle}{\\sqrt{2}}$$ \n",
    "\n",
    "is swept vs. $\\theta$ (think of this as allowing us to prepare a set of states varying in the angle $\\theta$ or to choose the orientation of our measurement apparatus).\n",
    " \n",
    "\"Note that the following demonstration of CHSH is not loophole-free.\" "
   ]
  },
  {
   "cell_type": "markdown",
   "metadata": {},
   "source": [
    "## Expressing the Bell State in the Four Basis Sets  <a id='section4'></a>\n",
    "\n",
    "Let's consider the freedom in the orientation of our measurement apparatus and express it via $\\theta$, then the entangled state in the various basis sets will be:\n",
    " \n",
    "  $$|\\psi(\\theta)\\rangle = I\\otimes Y(\\theta)\\frac{|00\\rangle + |11\\rangle}{\\sqrt(2)} \n",
    "= \\frac{\\cos(\\theta/2)|00\\rangle+\\sin(\\theta/2)|01\\rangle -\\sin(\\theta/2)|10\\rangle + \\cos(\\theta/2)|11\\rangle}{\\sqrt{2}}$$  \n",
    "\n",
    "by using $|0 \\rangle =\\frac{1}{\\sqrt{2}}(|+\\rangle + |-\\rangle) $ and $|1 \\rangle =\\frac{1}{\\sqrt{2}}(|+\\rangle - |-\\rangle) $, \n",
    "since $ |\\mp \\rangle = \\frac{1}{\\sqrt{2}}(|0\\rangle \\mp  |1\\rangle)$ one has:\n",
    "\n",
    " $$|\\psi(\\theta)\\rangle  \n",
    "= \\frac{\\cos(\\theta/2)|++\\rangle -\\sin(\\theta/2)|+-\\rangle +\\sin(\\theta/2)|-+\\rangle + \\cos(\\theta/2)|--\\rangle}{\\sqrt{2}}$$ \n",
    "\n",
    "In the mixed ZX basis this is:\n",
    "$$\n",
    "\\psi(\\theta)\\rangle =\\frac{1}{2}(\n",
    "(\\cos(\\theta/2)+\\sin(\\theta/2)|0+\\rangle\n",
    "+(\\cos(\\theta/2)-\\sin(\\theta/2))|0-\\rangle\n",
    "+(\\cos(\\theta/2)-\\sin(\\theta/2))|1+\\rangle \n",
    "-(\\sin(\\theta/2)+\\cos(\\theta/2))|1-\\rangle\n",
    ")$$\n",
    "\n",
    "In the mixed XZ basis this is:\n",
    "$$  \n",
    "\\psi(\\theta)\\rangle =\\frac{1}{2}(\n",
    "(\\cos(\\theta/2)-\\sin(\\theta/2))|+0\\rangle \n",
    "+(\\cos(\\theta/2)+\\sin(\\theta/2))|+1\\rangle\n",
    "+(\\sin(\\theta/2)+\\cos(\\theta/2))|-0\\rangle \n",
    "+(\\sin(\\theta/2)-\\cos(\\theta/2))|-1\\rangle\n",
    ")$$\n",
    "\n",
    "This will allow us to define a more sophisticated hidden variable model:\n",
    "\n",
    "$$\\langle A\\otimes B\\rangle = \\sum_\\lambda P(\\lambda,\\theta_{AB}) A(\\lambda) B(\\lambda).$$ \n"
   ]
  },
  {
   "cell_type": "code",
   "execution_count": 1,
   "metadata": {},
   "outputs": [
    {
     "name": "stdout",
     "output_type": "stream",
     "text": [
      "Date and time of this run:\n",
      "2018-11-01 18:22:04.829282\n"
     ]
    }
   ],
   "source": [
    "import datetime\n",
    "start_time = datetime.datetime.now()\n",
    "print\n",
    "print (\"Date and time of this run:\")\n",
    "print (str(start_time))"
   ]
  },
  {
   "cell_type": "code",
   "execution_count": 2,
   "metadata": {},
   "outputs": [
    {
     "name": "stdout",
     "output_type": "stream",
     "text": [
      "sys.version_info(major=3, minor=7, micro=0, releaselevel='final', serial=0)\n"
     ]
    }
   ],
   "source": [
    "# Checking the version of PYTHON; we only support > 3.5\n",
    "import sys\n",
    "print (sys.version_info)\n",
    "if sys.version_info < (3,5): \n",
    "    raise Exception('Please use Python version 3.5 or greater.')\n",
    "    \n",
    "# useful additional packages \n",
    "from math import *\n",
    "import matplotlib.pyplot as plt\n",
    "\n",
    "#matplotlib inline\n",
    "import numpy as np"
   ]
  },
  {
   "cell_type": "code",
   "execution_count": 3,
   "metadata": {},
   "outputs": [],
   "source": [
    "import getpass, time\n",
    "\n",
    "# importing the QISKit\n",
    "from qiskit import QuantumCircuit, ClassicalRegister, QuantumRegister, QuantumProgram\n",
    "from qiskit import available_backends, execute, register,get_backend, least_busy\n"
   ]
  },
  {
   "cell_type": "code",
   "execution_count": 4,
   "metadata": {},
   "outputs": [],
   "source": [
    "# import basic plot tools\n",
    "from qiskit.tools.visualization import plot_histogram, circuit_drawer"
   ]
  },
  {
   "cell_type": "code",
   "execution_count": 5,
   "metadata": {},
   "outputs": [
    {
     "name": "stdout",
     "output_type": "stream",
     "text": [
      "Qconfig loaded from /Users/Vesselin/QISKit/VGG-Entanglement_Revisited/Qconfig.py.\n"
     ]
    },
    {
     "data": {
      "text/plain": [
       "<qiskit.backends.ibmq.ibmqprovider.IBMQProvider at 0x10c51b4e0>"
      ]
     },
     "execution_count": 5,
     "metadata": {},
     "output_type": "execute_result"
    }
   ],
   "source": [
    "# Connecting to the IBM Quantum Experience\n",
    "import sys, getpass\n",
    "try:\n",
    "    sys.path.append(\"../../\") # go to parent dir\n",
    "    import Qconfig\n",
    "    qx_config = {\n",
    "        \"APItoken\": Qconfig.APItoken,\n",
    "        \"url\": Qconfig.config['url']}\n",
    "    print('Qconfig loaded from %s.' % Qconfig.__file__)\n",
    "except:\n",
    "    APItoken = getpass.getpass('Please input your token and hit enter: ')\n",
    "    qx_config = {\n",
    "        \"APItoken\": APItoken,\n",
    "        \"url\":\"https://quantumexperience.ng.bluemix.net/api\"}\n",
    "    print('Qconfig.py not found in qiskit-tutorial directory; Qconfig loaded using user input.')\n",
    "\n",
    "register(qx_config['APItoken'], qx_config['url'])\n"
   ]
  },
  {
   "cell_type": "code",
   "execution_count": 6,
   "metadata": {},
   "outputs": [
    {
     "name": "stdout",
     "output_type": "stream",
     "text": [
      "the best backend is local_qasm_simulator_py with coupling all-to-all\n"
     ]
    }
   ],
   "source": [
    "# Finding the best device to run on\n",
    "device_shots = 1024 # the number of shots in the experiment.\n",
    "device_name = least_busy(available_backends({'simulator': True, 'local': True}))\n",
    "device = get_backend(device_name)\n",
    "device_coupling = device.configuration['coupling_map']\n",
    "\n",
    "print(\"the best backend is \" + device_name + \" with coupling \" + str(device_coupling))"
   ]
  },
  {
   "cell_type": "code",
   "execution_count": 7,
   "metadata": {},
   "outputs": [],
   "source": [
    "#device_name = 'ibmqx2' # the backend to run on\n",
    "#device_name = 'local_qasm_simulator' #VGG\n",
    "#device_shots = 1024    # the number of shots in the experiment. \n",
    "#device_name = 'simulator' # the backend test purpose\n"
   ]
  },
  {
   "cell_type": "code",
   "execution_count": 8,
   "metadata": {},
   "outputs": [],
   "source": [
    "QPS_SPECS = {\n",
    "    'circuits': [{\n",
    "        'name': 'bell',\n",
    "        'quantum_registers': [{\n",
    "            'name':'q',\n",
    "            'size':2\n",
    "        }],\n",
    "        'classical_registers': [{\n",
    "            'name':'c',\n",
    "            'size':2\n",
    "        }]}],\n",
    "}\n",
    "\n",
    "Q_program = QuantumProgram(specs=QPS_SPECS)"
   ]
  },
  {
   "cell_type": "code",
   "execution_count": 9,
   "metadata": {},
   "outputs": [
    {
     "data": {
      "text/plain": [
       "<qiskit.extensions.standard.cx.CnotGate at 0x10c51b160>"
      ]
     },
     "execution_count": 9,
     "metadata": {},
     "output_type": "execute_result"
    }
   ],
   "source": [
    "# Creating registers\n",
    "q = QuantumRegister(2)\n",
    "c = ClassicalRegister(2)\n",
    "\n",
    "# quantum circuit to make an entangled bell state \n",
    "bell = QuantumCircuit(q, c)\n",
    "\n",
    "bell.h(q[0])\n",
    "bell.cx(q[0],q[1])"
   ]
  },
  {
   "cell_type": "code",
   "execution_count": 10,
   "metadata": {},
   "outputs": [
    {
     "data": {
      "text/plain": [
       "<qiskit.extensions.standard.ry.RYGate at 0x104e1dc88>"
      ]
     },
     "execution_count": 10,
     "metadata": {},
     "output_type": "execute_result"
    }
   ],
   "source": [
    "#VGG: consider a misalignment by an angle theta \n",
    "#(rotaion around the y-axes) in the measurment done by Alice on q0\n",
    "#VGG 2pi/10 is close to the maximum of the CHSH inequality\n",
    "theta_rdm =2.0*np.pi*np.random.random()\n",
    "theta = theta_rdm\n",
    "bell.ry(theta,q[0])"
   ]
  },
  {
   "cell_type": "code",
   "execution_count": 11,
   "metadata": {},
   "outputs": [],
   "source": [
    "# quantum circuit to measure q in standard basis \n",
    "measureZZ = QuantumCircuit(q, c)\n",
    "measureZZ.measure(q[0], c[0])\n",
    "measureZZ.measure(q[1], c[1])\n",
    "bellZZ = bell+measureZZ\n",
    "\n",
    "# quantum circuit to measure q in superposition basis \n",
    "measureXX = QuantumCircuit(q, c)\n",
    "measureXX.h(q[0])\n",
    "measureXX.h(q[1])\n",
    "measureXX.measure(q[0], c[0])\n",
    "measureXX.measure(q[1], c[1])\n",
    "bellXX = bell+measureXX\n",
    "\n",
    "# quantum circuit to measure ZX\n",
    "measureZX = QuantumCircuit(q, c)\n",
    "measureZX.h(q[0])\n",
    "measureZX.measure(q[0], c[0])\n",
    "measureZX.measure(q[1], c[1])\n",
    "bellZX = bell+measureZX\n",
    "\n",
    "# quantum circuit to measure XZ\n",
    "measureXZ = QuantumCircuit(q, c)\n",
    "measureXZ.h(q[1])\n",
    "measureXZ.measure(q[0], c[0])\n",
    "measureXZ.measure(q[1], c[1])\n",
    "bellXZ = bell+measureXZ\n",
    "\n",
    "circuits = [bellZZ,bellXX,bellZX,bellXZ]"
   ]
  },
  {
   "cell_type": "code",
   "execution_count": 12,
   "metadata": {},
   "outputs": [
    {
     "name": "stderr",
     "output_type": "stream",
     "text": [
      "WARNING: Unable to compile latex. Is the `Qcircuit` latex package installed? Skipping latex circuit drawing...\n"
     ]
    },
    {
     "data": {
      "image/png": "[encoded data removed]",
      "text/plain": [
       "<Figure size 481.6x361.2 with 1 Axes>"
      ]
     },
     "metadata": {},
     "output_type": "display_data"
    }
   ],
   "source": [
    "circuit_drawer(bellZZ)"
   ]
  },
  {
   "cell_type": "code",
   "execution_count": 13,
   "metadata": {},
   "outputs": [
    {
     "name": "stderr",
     "output_type": "stream",
     "text": [
      "WARNING: Unable to compile latex. Is the `Qcircuit` latex package installed? Skipping latex circuit drawing...\n"
     ]
    },
    {
     "data": {
      "image/png": "[encoded data removed]",
      "text/plain": [
       "<Figure size 602x361.2 with 1 Axes>"
      ]
     },
     "metadata": {},
     "output_type": "display_data"
    }
   ],
   "source": [
    "circuit_drawer(bellXX)"
   ]
  },
  {
   "cell_type": "code",
   "execution_count": 14,
   "metadata": {},
   "outputs": [
    {
     "name": "stderr",
     "output_type": "stream",
     "text": [
      "WARNING: Unable to compile latex. Is the `Qcircuit` latex package installed? Skipping latex circuit drawing...\n"
     ]
    },
    {
     "data": {
      "image/png": "[encoded data removed]",
      "text/plain": [
       "<Figure size 541.8x361.2 with 1 Axes>"
      ]
     },
     "metadata": {},
     "output_type": "display_data"
    }
   ],
   "source": [
    "circuit_drawer(bellZX)"
   ]
  },
  {
   "cell_type": "code",
   "execution_count": 15,
   "metadata": {},
   "outputs": [],
   "source": [
    "Q_program.add_circuit('bell_measureZX', bell+measureZX )\n",
    "Q_program.add_circuit('bell_measureXZ', bell+measureXZ )\n",
    "Q_program.add_circuit('bell_measureZZ', bell+measureZZ )\n",
    "Q_program.add_circuit('bell_measureXX', bell+measureXX )\n",
    "\n",
    "circuits = ['bell_measureZZ', 'bell_measureZX', 'bell_measureXX', 'bell_measureXZ']"
   ]
  },
  {
   "cell_type": "code",
   "execution_count": 16,
   "metadata": {},
   "outputs": [],
   "source": [
    "Q_program.get_qasms(circuits)\n",
    "\n",
    "result = Q_program.execute(circuits, backend=device_name, coupling_map=device_coupling, shots=device_shots)"
   ]
  },
  {
   "cell_type": "markdown",
   "metadata": {},
   "source": [
    "Above we have defined an entangled state and its measurements. A random angle $\\theta$ is utilized to demonstrate the QM probability outcomes and to compare to the relevant expressions for $P(\\lambda,\\theta_{AB})$ in the subsequent graphs and their data below."
   ]
  },
  {
   "cell_type": "code",
   "execution_count": 17,
   "metadata": {},
   "outputs": [
    {
     "data": {
      "image/png": "[encoded data removed]",
      "text/plain": [
       "<Figure size 432x288 with 1 Axes>"
      ]
     },
     "metadata": {},
     "output_type": "display_data"
    },
    {
     "name": "stdout",
     "output_type": "stream",
     "text": [
      "[0.033442084454704216, 0.4665579155452958, 0.4665579155452958, 0.033442084454704216]\n"
     ]
    },
    {
     "data": {
      "image/png": "[encoded data removed]",
      "text/plain": [
       "<Figure size 432x288 with 1 Axes>"
      ]
     },
     "metadata": {},
     "output_type": "display_data"
    },
    {
     "data": {
      "image/png": "[encoded data removed]",
      "text/plain": [
       "<Figure size 432x288 with 1 Axes>"
      ]
     },
     "metadata": {},
     "output_type": "display_data"
    },
    {
     "name": "stdout",
     "output_type": "stream",
     "text": [
      "[0.12508935507861416, 0.3749106449213858, 0.3749106449213858, 0.12508935507861416]\n"
     ]
    },
    {
     "data": {
      "image/png": "[encoded data removed]",
      "text/plain": [
       "<Figure size 432x288 with 1 Axes>"
      ]
     },
     "metadata": {},
     "output_type": "display_data"
    },
    {
     "name": "stdout",
     "output_type": "stream",
     "text": [
      "[0.3749106449213858, 0.12508935507861416, 0.12508935507861416, 0.3749106449213858]\n"
     ]
    }
   ],
   "source": [
    "#Since XX_Probability=ZZ_Probability we name the function QM_Probability\n",
    "\n",
    "QM_Probability=[0.5*np.cos(theta/2)**2,0.5*np.sin(theta/2)**2,0.5*np.sin(theta/2)**2,0.5*np.cos(theta/2)**2]\n",
    "\n",
    "ZX_Probability=[0.25*(np.cos(theta/2)+np.sin(theta/2))**2,\n",
    "              0.25*(np.cos(theta/2)-np.sin(theta/2))**2,\n",
    "              0.25*(np.cos(theta/2)-np.sin(theta/2))**2,\n",
    "              0.25*(np.cos(theta/2)+np.sin(theta/2))**2]\n",
    "\n",
    "XZ_Probability=[0.25*(np.cos(theta/2)-np.sin(theta/2))**2,\n",
    "              0.25*(np.cos(theta/2)+np.sin(theta/2))**2,\n",
    "              0.25*(np.cos(theta/2)+np.sin(theta/2))**2,\n",
    "              0.25*(np.cos(theta/2)-np.sin(theta/2))**2]\n",
    "\n",
    "plot_histogram(result.get_counts(\"bell_measureZZ\"))\n",
    "print(QM_Probability)\n",
    "plot_histogram(result.get_counts(\"bell_measureXX\"))\n",
    "\n",
    "plot_histogram(result.get_counts(\"bell_measureZX\"))\n",
    "print(ZX_Probability)\n",
    "\n",
    "plot_histogram(result.get_counts(\"bell_measureXZ\"))\n",
    "print(XZ_Probability)\n"
   ]
  },
  {
   "cell_type": "markdown",
   "metadata": {},
   "source": [
    "Since the Entangled quantum state has the form \n",
    "$|\\psi\\rangle=\\frac{1}{\\sqrt{2}}(|00\\rangle+|11\\rangle)= \\frac{1}{\\sqrt{2}}(|++\\rangle+|--\\rangle)$\n",
    "\n",
    "Z-basis outcome | Z (qubit 1) |Z (qubit 2)    | $q1&q2$ | X (qubit 1)| X (qubit 2) | X-basis outcome  \n",
    "------------- | -------------  | -------------  | ------------- | ------------- | ------------- | -------------\n",
    "00  | 1 | 1 |$1$ | 1 | 1 | $+ +$ \n",
    "01  |-1 | 1 |$-1$ |-1 | 1 | $+ -$ \n",
    "10  | 1 |-1 |$-1$ | 1 |-1 | $- +$  \n",
    "11  |-1 |-1 |$1$ |-1 |-1 | $- -$ \n"
   ]
  },
  {
   "cell_type": "code",
   "execution_count": 18,
   "metadata": {},
   "outputs": [],
   "source": [
    "observable_first_ideal ={'00': 1, '01': -1, '10': 1, '11': -1}\n",
    "observable_second_ideal ={'00': 1, '01': 1, '10': -1, '11': -1}\n",
    "observable_correlated_ideal ={'00': 1, '01': -1, '10': -1, '11': 1}\n",
    "\n",
    "observable_first ={'00000': 1, '00001': -1, '00010': 1, '00011': -1}\n",
    "observable_second ={'00000': 1, '00001': 1, '00010': -1, '00011': -1}\n",
    "observable_correlated ={'00000': 1, '00001': -1, '00010': -1, '00011': 1}"
   ]
  },
  {
   "cell_type": "code",
   "execution_count": 19,
   "metadata": {},
   "outputs": [
    {
     "name": "stdout",
     "output_type": "stream",
     "text": [
      "QM results\n",
      "theta= 3.6647787649058596\n",
      "ZZ= {'01': 505, '10': 446, '00': 35, '11': 38}\n",
      "XX= {'10': 466, '01': 491, '11': 35, '00': 32}\n",
      "ZX= {'01': 391, '10': 400, '11': 121, '00': 112}\n",
      "XZ= {'11': 421, '00': 375, '01': 118, '10': 110}\n",
      "IZ = -0.060546875\n",
      "ZI = 0.0546875\n",
      "ZZ = -0.857421875\n",
      "IX = -0.02734375\n",
      "XI = 0.021484375\n",
      "XX = -0.869140625\n",
      "ZX = -0.544921875\n",
      "XZ = 0.5546875\n"
     ]
    }
   ],
   "source": [
    "print(\"QM results\")\n",
    "\n",
    "print(\"theta=\",theta)\n",
    "print(\"ZZ=\",result.get_counts(\"bell_measureZZ\"))\n",
    "print(\"XX=\",result.get_counts(\"bell_measureXX\"))\n",
    "print(\"ZX=\",result.get_counts(\"bell_measureZX\"))\n",
    "print(\"XZ=\",result.get_counts(\"bell_measureXZ\"))\n",
    "\n",
    "print('IZ = ' + str(result.average_data('bell_measureZZ',observable_first_ideal)))\n",
    "print('ZI = ' + str(result.average_data('bell_measureZZ',observable_second_ideal)))\n",
    "print('ZZ = ' + str(result.average_data('bell_measureZZ',observable_correlated_ideal)))\n",
    "\n",
    "print('IX = ' + str(result.average_data('bell_measureXX',observable_first_ideal)))\n",
    "print('XI = ' + str(result.average_data('bell_measureXX',observable_second_ideal)))\n",
    "print('XX = ' + str(result.average_data('bell_measureXX',observable_correlated_ideal)))\n",
    "\n",
    "print('ZX = ' + str(result.average_data('bell_measureZX',observable_correlated_ideal)))\n",
    "print('XZ = ' + str(result.average_data('bell_measureXZ',observable_correlated_ideal)))"
   ]
  },
  {
   "cell_type": "code",
   "execution_count": 20,
   "metadata": {},
   "outputs": [
    {
     "name": "stdout",
     "output_type": "stream",
     "text": [
      "Probability(A,B) model gives:\n",
      "IZ_th = -1.3877787807814457e-17\n",
      "ZI_th = -1.3877787807814457e-17\n",
      "ZZ_th = -0.8662316621811832\n",
      "IX_th = -1.3877787807814457e-17\n",
      "XI_th = -1.3877787807814457e-17\n",
      "XX_th = -0.8662316621811832\n",
      "ZX_th = -0.49964257968554326\n",
      "XZ_th = 0.4996425796855433\n"
     ]
    }
   ],
   "source": [
    "IZ_th=[1,-1, 1,-1];ZI_th=[1, 1,-1,-1];ZZ_th=[+1,-1,-1,+1]\n",
    "IX_th=[1,-1, 1,-1];XI_th=[1, 1,-1,-1];XX_th=[+1,-1,-1,+1]\n",
    "ZX_th=[+1,-1,-1,+1];XZ_th=[+1,-1,-1,+1]\n",
    "\n",
    "print('Probability(A,B) model gives:')\n",
    "print('IZ_th = ' + str(np.dot(QM_Probability,IZ_th)))\n",
    "print('ZI_th = ' + str(np.dot(QM_Probability,ZI_th)))\n",
    "print('ZZ_th = ' + str(np.dot(QM_Probability,ZZ_th)))\n",
    "print('IX_th = ' + str(np.dot(QM_Probability,IX_th)))\n",
    "print('XI_th = ' + str(np.dot(QM_Probability,XI_th)))\n",
    "print('XX_th = ' + str(np.dot(QM_Probability,XX_th)))\n",
    "print('ZX_th = '  + str(np.dot(ZX_Probability,ZX_th)))\n",
    "print('XZ_th = '  + str(np.dot(XZ_Probability,XZ_th)))"
   ]
  },
  {
   "cell_type": "code",
   "execution_count": 21,
   "metadata": {},
   "outputs": [
    {
     "name": "stdout",
     "output_type": "stream",
     "text": [
      "QM upper limit is 2*sqrt(2) = 2.8284271247461903\n",
      "QM CHSH gives ZZ+XX +ZX -XZ = -2.826171875\n",
      "Probability(A,B) model gives= -2.731748483733453\n"
     ]
    }
   ],
   "source": [
    "print('QM upper limit is 2*sqrt(2) =', 2*np.sqrt(2))\n",
    "\n",
    "print('QM CHSH gives ZZ+XX +ZX -XZ =',\n",
    "    result.average_data('bell_measureZZ',observable_correlated_ideal)\n",
    "    +result.average_data('bell_measureXX',observable_correlated_ideal)\n",
    "    +result.average_data('bell_measureZX',observable_correlated_ideal)\n",
    "    -result.average_data('bell_measureXZ',observable_correlated_ideal))\n",
    "\n",
    "print('Probability(A,B) model gives=',\n",
    "    np.dot(QM_Probability,ZZ_th)\n",
    "    +np.dot(QM_Probability,XX_th)\n",
    "    +np.dot(ZX_Probability,ZX_th) \n",
    "    -np.dot(XZ_Probability,XZ_th))"
   ]
  },
  {
   "cell_type": "markdown",
   "metadata": {},
   "source": [
    "For any $\\theta$, and in particular for $\\theta=0$, one can see that the measurements on ZI, IZ, ZZ, XX, IX, XI result in the values as shown in the table below. The mathematical expression of the QM-Probability($\\theta$) and the corresponding AB-values above guarantee the expectation values 0 or 1.\n",
    "\n",
    "However, the zero expectation value for ZX and XZ is not guaranteed for any angle $\\theta$. The corresponding probabilities nevertheless guarantee that $\\langle ZX \\rangle=-\\langle XZ \\rangle$ because of the functional form of the probability $P(\\lambda,\\theta_{AB})$  and the associated AB-outcomes.  \n",
    "\n",
    "Observable    | Expected value |Observable    | Expected value|Observable    | Expected value\n",
    "------------- | -------------  | ------------- | ------------- | ------------- | -------------\n",
    "ZZ  | 1   |XX  | 1  | ZX  | 0 ? \n",
    "ZI  | 0   |XI  | 0  | XZ  | 0 ?\n",
    "IZ  | 0   |IX  | 0  |     |    \n",
    "\n",
    "Next, let's introduce the concept of a *$\\theta$ hidden variable model*. \n",
    "If we assume there are hidden variables $\\lambda$ and $\\theta$ that define all the correlations so that:\n",
    "\n",
    "$$\\langle A\\otimes B\\rangle = \\sum_\\lambda P(\\lambda,\\theta_{AB}) A(\\lambda) B(\\lambda).$$ \n",
    "                      \n",
    "while ($A(\\lambda)=\\pm1$ etc.). \n",
    "\n",
    "Then how well can we describe these observations? --- The answer is very well! \n",
    "\n",
    "Thus, with the *$\\theta$ hidden variable model*, we are able to reconcile the measured observations for this particular Entangled states. \n",
    "\n",
    "For this purpose, we define the $P(\\lambda,\\theta_{AB})$ function below, as well as a simulator and real 2q-bit circuits. In the end, we will compare all the results."
   ]
  },
  {
   "cell_type": "code",
   "execution_count": 22,
   "metadata": {},
   "outputs": [],
   "source": [
    "#VGG since XXP is the same as ZZP we define them both as QMP.\n",
    "\n",
    "QMP = lambda x : np.array([0.5*np.cos(x/2)**2, 0.5*np.sin(x/2)**2, 0.5*np.sin(x/2)**2, 0.5*np.cos(x/2)**2]);\n",
    "\n",
    "ZXP = lambda x : np.array([0.25*(np.cos(x/2)+np.sin(x/2))**2, \n",
    "                     0.25*(np.cos(x/2)-np.sin(x/2))**2,\n",
    "                     0.25*(np.cos(x/2)-np.sin(x/2))**2,\n",
    "                     0.25*(np.cos(x/2)+np.sin(x/2))**2]);\n",
    "\n",
    "XZP = lambda x : np.array([0.25*(np.cos(x/2)-np.sin(x/2))**2, \n",
    "                     0.25*(np.cos(x/2)+np.sin(x/2))**2,\n",
    "                     0.25*(np.cos(x/2)+np.sin(x/2))**2,\n",
    "                     0.25*(np.cos(x/2)-np.sin(x/2))**2]);\n",
    "\n",
    "ZZXXZX_XZP = lambda x : 2*QMP(x)+ZXP(x)-XZP(x);\n",
    "\n",
    "\n",
    "ZZXXZX_XZ_value =  lambda x : np.dot(ZZXXZX_XZP(x),[1,-1,-1,1]);"
   ]
  },
  {
   "cell_type": "code",
   "execution_count": 23,
   "metadata": {},
   "outputs": [],
   "source": [
    "thetaData = []\n",
    "ZZdata = []\n",
    "XZdata = []\n",
    "ZXdata = []\n",
    "CHSHdata = []\n",
    "\n",
    "for jj in range(0,30):\n",
    "    theta = 2.0*np.pi*jj/30\n",
    "    thetaData.append(theta)\n",
    "    ZZdata.append(np.dot(QMP(theta),[1,-1,-1,1]))\n",
    "    XZdata.append(np.dot(ZXP(theta),[1,-1,-1,1]))\n",
    "    ZXdata.append(np.dot(XZP(theta),[1,-1,-1,1]))\n",
    "    CHSHdata.append(np.dot(ZZXXZX_XZP(theta),[1,-1,-1,1]))\n",
    " "
   ]
  },
  {
   "cell_type": "code",
   "execution_count": 24,
   "metadata": {},
   "outputs": [
    {
     "data": {
      "image/png": "[encoded data removed]",
      "text/plain": [
       "<Figure size 432x288 with 1 Axes>"
      ]
     },
     "metadata": {},
     "output_type": "display_data"
    }
   ],
   "source": [
    "plt.plot(thetaData,ZZdata,'g-', thetaData,XZdata,'r-', thetaData,ZXdata,'b-', thetaData,CHSHdata,'b.')\n",
    "plt.plot([0, 2*np.pi], [2, 2], 'b-')\n",
    "plt.plot([0, 2*np.pi], [-2, -2], 'b-')\n",
    "plt.plot([0, 2*np.pi], [2*np.sqrt(2), 2*np.sqrt(2)], 'r-')\n",
    "plt.plot([0, 2*np.pi], [-2*np.sqrt(2), -2*np.sqrt(2)], 'r-')\n",
    "plt.grid()\n",
    "plt.ylabel('CHSH, XZ, ZX, ZZ', fontsize=20)\n",
    "plt.xlabel(r'$Y(\\theta)$', fontsize=20)\n",
    "plt.show()"
   ]
  },
  {
   "cell_type": "markdown",
   "metadata": {},
   "source": [
    "## CHSH XZ, ZX and ZZ Graph <a id='section5'></a>\n",
    "\n",
    "The results graphed above show the expected CHSH values (sinusoidal blue dots), $\\langle ZZ \\rangle$ expected data which should be the same as $\\langle XX \\rangle$ (green $\\cos$-like line), the $\\langle XZ \\rangle$ expected data (red $\\sin$-like line) and the $\\langle ZX \\rangle$ expected data (blue anti-$\\sin$-like line). The graph also gives lines for the limits at $\\pm 2$ (blue) and $\\pm 2\\sqrt{2}$ (red) for reference. Clearly an additive maximum is achieved for $\\langle ZZ \\rangle+\\langle XX \\rangle +\\langle XZ \\rangle - \\langle ZX \\rangle$ when $cos(\\theta)=sin(\\theta)=\\frac{\\sqrt{2}}{2}$ with the value $2\\sqrt{2}$. This happens at $\\theta=\\pi/4$ and $\\theta=5\\pi/4$.\n",
    "\n",
    "To understand the angular dependence $\\cos(\\theta+\\delta)$ of the four expectation values one can think of the X as y-rotated Z measurement at $\\pi/2$ using right-hand oriented triad. \n",
    "Since the choice of Z (X) orientation is arbitrary in an isotropic system $\\langle XX \\rangle$ is practically $\\langle ZZ \\rangle$ and thus they both have the $\\cos(\\theta)$ dependence since the structure of the entangled state and the conservation of the angular momentum enforce aligned AB-result of 1; thus, there is a zero phase shift ($\\delta=0$) in the $\\cos(\\theta+\\delta)$. \n",
    "Then to understand the $\\langle XZ \\rangle$ dependence in $\\theta$ one can consider that this is ZZ but the first Z is rotated now at ($\\delta=\\pi/2$), therefore $\\sin(\\theta)=\\cos(\\theta-\\pi/2)$. For $\\langle ZX \\rangle$ the second Z in ZZ is rotated now at ($\\delta=\\pi/2$) with the result $\\cos(\\theta+\\pi/2)=-\\sin(\\theta)$. \n",
    "The different sign of $\\delta$ for going from Z to X depending on whether it is on the fists or second Z is consistent with the requirement that $\\langle XX \\rangle$ is same as $\\langle ZZ \\rangle$."
   ]
  },
  {
   "cell_type": "code",
   "execution_count": 25,
   "metadata": {},
   "outputs": [],
   "source": [
    "CHSH = lambda x : x[0]+x[1]+x[2]-x[3]"
   ]
  },
  {
   "cell_type": "code",
   "execution_count": 26,
   "metadata": {},
   "outputs": [],
   "source": [
    "#device_name = 'local_qasm_simulator'\n",
    "#device_shots = 1024 #VGG it was 8x1024 \n",
    "\n",
    "program = []\n",
    "xdata=[]\n",
    "ydata=[]\n",
    "\n",
    "program_end = [measureZZ, measureZX, measureXX, measureXZ]\n",
    "\n",
    "theta=0\n",
    "k = 0\n",
    "for jj in range(0,30):\n",
    "    theta = 2.0*np.pi*jj/30\n",
    "    bell_middle = QuantumCircuit(q,c)\n",
    "    bell_middle.ry(theta-theta_rdm,q[0]) #VGG we have to undo the rotation due to the theta_rdm\n",
    "    for i in range(4):\n",
    "        program.append('circuit'+str(k))\n",
    "        Q_program.add_circuit('circuit'+str(k), bell+bell_middle+program_end[i] )\n",
    "        k += 1\n",
    "        \n",
    "    xdata.append(theta)\n",
    "    ydata.append(ZZXXZX_XZ_value(theta))"
   ]
  },
  {
   "cell_type": "code",
   "execution_count": 27,
   "metadata": {},
   "outputs": [],
   "source": [
    "Q_program.get_qasms(program[0:8])\n",
    "results = Q_program.execute(program, backend = device_name, coupling_map=device_coupling, shots=device_shots)"
   ]
  },
  {
   "cell_type": "code",
   "execution_count": 28,
   "metadata": {},
   "outputs": [],
   "source": [
    "CHSH_data_sim = []\n",
    "k = 0\n",
    "for j in range(len(xdata)):\n",
    "    temp=[]\n",
    "    for i in range(4): \n",
    "        temp.append(results.average_data('circuit'+str(k),observable_correlated_ideal))\n",
    "        k += 1\n",
    "    CHSH_data_sim.append(CHSH(temp))"
   ]
  },
  {
   "cell_type": "code",
   "execution_count": 29,
   "metadata": {},
   "outputs": [],
   "source": [
    "# device_name = 'ibmqx4'\n",
    "# device_name = 'local_qasm_simulator'\n",
    "# device_shots = 1024\n",
    "\n",
    "program_real = []\n",
    "xdata_real=[]\n",
    "\n",
    "k = 0\n",
    "theta=0\n",
    "for jj in range(10):\n",
    "    theta = 2.0*np.pi*jj/10\n",
    "    bell_middle = QuantumCircuit(q,c)\n",
    "    bell_middle.ry(theta-theta_rdm,q[0]) #VGG we have to undo the rotation due to the theta_rdm\n",
    "    for i in range(4):\n",
    "        program_real.append('circuit_real'+str(k))\n",
    "        Q_program.add_circuit('circuit_real'+str(k), bell+bell_middle+program_end[i] )\n",
    "        k += 1\n",
    "        \n",
    "    xdata_real.append(theta)"
   ]
  },
  {
   "cell_type": "code",
   "execution_count": 30,
   "metadata": {},
   "outputs": [
    {
     "data": {
      "text/plain": [
       "[{'name': 'circuit_real0',\n",
       "  'seed': 2091235104,\n",
       "  'shots': 1024,\n",
       "  'data': {'counts': {'11': 560, '00': 464}, 'snapshots': {}},\n",
       "  'status': 'DONE',\n",
       "  'success': True,\n",
       "  'time_taken': 0.3152601718902588},\n",
       " {'name': 'circuit_real1',\n",
       "  'seed': 1307560092,\n",
       "  'shots': 1024,\n",
       "  'data': {'counts': {'11': 273, '00': 275, '01': 228, '10': 248},\n",
       "   'snapshots': {}},\n",
       "  'status': 'DONE',\n",
       "  'success': True,\n",
       "  'time_taken': 0.3790726661682129},\n",
       " {'name': 'circuit_real2',\n",
       "  'seed': 4203779250,\n",
       "  'shots': 1024,\n",
       "  'data': {'counts': {'00': 505, '11': 519}, 'snapshots': {}},\n",
       "  'status': 'DONE',\n",
       "  'success': True,\n",
       "  'time_taken': 0.43583011627197266}]"
      ]
     },
     "execution_count": 30,
     "metadata": {},
     "output_type": "execute_result"
    }
   ],
   "source": [
    "Q_program.get_qasms(program_real[0:3])\n",
    "resultreal = Q_program.execute(program_real, backend = device_name, coupling_map=device_coupling, shots=device_shots, max_credits=3)\n",
    "resultreal[0:3]"
   ]
  },
  {
   "cell_type": "code",
   "execution_count": 31,
   "metadata": {},
   "outputs": [],
   "source": [
    "CHSH_data_real = []\n",
    "k = 0\n",
    "for j in range(len(xdata_real)):\n",
    "    temp=[]\n",
    "    for i in range(4): \n",
    "        temp.append(resultreal.average_data('circuit_real'+str(k),observable_correlated_ideal))\n",
    "        k += 1\n",
    "    CHSH_data_real.append(CHSH(temp))"
   ]
  },
  {
   "cell_type": "code",
   "execution_count": 32,
   "metadata": {},
   "outputs": [
    {
     "data": {
      "image/png": "[encoded data removed]",
      "text/plain": [
       "<Figure size 432x288 with 1 Axes>"
      ]
     },
     "metadata": {},
     "output_type": "display_data"
    }
   ],
   "source": [
    "plt.plot(xdata,CHSH_data_sim,'b.', xdata_real,CHSH_data_real,'r*', xdata,ydata,'g-')\n",
    "plt.plot([0, 2*np.pi], [2, 2], 'b-')\n",
    "plt.plot([0, 2*np.pi], [-2, -2], 'b-')\n",
    "plt.plot([0, 2*np.pi], [2*np.sqrt(2), 2*np.sqrt(2)], 'r-')\n",
    "plt.plot([0, 2*np.pi], [-2*np.sqrt(2), -2*np.sqrt(2)], 'r-')\n",
    "plt.grid()\n",
    "plt.ylabel('CHSH', fontsize=20)\n",
    "plt.xlabel(r'$Y(\\theta)$', fontsize=20)\n",
    "plt.show()"
   ]
  },
  {
   "cell_type": "markdown",
   "metadata": {},
   "source": [
    "## CHSH Graph <a id='section5'></a>\n",
    "\n",
    "The resulting graph above created by running the previous cell compares the *$\\theta$ hidden variable model* (sinusoidal green line),  simulated data (blue dots), and the data from the real experiment (red stars) if the device_name = 'ibmqx2' have been utilized. The graph also gives lines for the limits at $\\pm 2$ (blue) and $\\pm 2\\sqrt{2}$ (red) for reference."
   ]
  },
  {
   "cell_type": "markdown",
   "metadata": {},
   "source": [
    "Here is the saved CHSH data. "
   ]
  },
  {
   "cell_type": "code",
   "execution_count": 33,
   "metadata": {},
   "outputs": [
    {
     "name": "stdout",
     "output_type": "stream",
     "text": [
      "[2.05859375, 2.794921875, 2.529296875, 1.294921875, -0.46484375, -2.0625, -2.81640625, -2.623046875, -1.283203125, 0.478515625]\n"
     ]
    }
   ],
   "source": [
    "print(CHSH_data_real)"
   ]
  },
  {
   "cell_type": "markdown",
   "metadata": {},
   "source": [
    "One can see that this experiment is compatible with quantum mechanics as well as with *$\\theta$ hidden variable* model above. \n",
    "\n",
    "See the original experimental demonstrations of this test with superconducting qubits [here](https://arstechnica.com/science/2017/05/quantum-volume-one-number-to-benchmark-a-quantum-computer/) and [here](https://journals.aps.org/pra/abstract/10.1103/PhysRevA.81.062325)."
   ]
  },
  {
   "cell_type": "markdown",
   "metadata": {},
   "source": [
    "## Closing Remarks <a id='section6'></a>\n",
    "\n",
    "Since the function $P(\\lambda,\\theta_{AB})$ was deduced based on the QM consideration, thus this is not purely classical object. However, one can consider an experimental determination of $P(\\lambda,\\theta_{AB})$ instead. \n",
    "In any case, $P(\\lambda,\\theta_{AB})$ is not quite like the usual probability distributions because: \n",
    "\n",
    "$$\\sum_{\\lambda \\in outcome_{AB}} P(\\lambda,\\theta_{AB})=4$$\n",
    "\n",
    "One can easily see this by considering that $2*QM_{-}Probability(\\theta)+ZX_{-}Probability(\\theta)+XZ_{-}Probability(\\theta)$\n",
    "results in the following expressions $[1+\\cos(\\theta)/2,1-\\cos(\\theta)/2,1-\\cos(\\theta)/2,1+\\cos(\\theta)/2]$ along the ordered list of outcomes  $[00,01,10,11]$. In summary, we have the following table:\n",
    "\n",
    "ZZ-basis| XX-basis  |ZX-basis |XZ-basis| AB-outcome |$ P(\\theta_{AB})$|\n",
    "------------- | -------------  | -------------  | ------------- | ------------- | ------------- \n",
    "$0 0$|$+ +$|$0 +$|$+ 0$|$1$ |1+$\\cos(\\theta)/2$|\n",
    "$0 1$|$+ -$|$0 -$|$+ 1$|$-1$|1-$\\cos(\\theta)/2$| \n",
    "$1 0$|$- +$|$1 +$|$- 0$|$-1$|1-$\\cos(\\theta)/2$|  \n",
    "$1 1$|$- -$|$1 -$|$- 1$|$1$ |1+$\\cos(\\theta)/2$| \n",
    "\n",
    "\n",
    "This explains the total value of 4 for the earlier sum to be due to summation over four different complete probabilities:\n",
    "\n",
    "$$ P(\\lambda,\\theta_{ZZ})=P(\\lambda,\\theta_{XX}), \\qquad P(\\lambda,\\theta_{ZX}),\\qquad P(\\lambda,\\theta_{XZ})$$\n",
    "\n",
    "ZZ-basis| XX-basis  |ZX-basis |XZ-basis| AB-outcome |$ P(\\theta_{AB})$|\n",
    "------------- | -------------  | -------------  | ------------- | ------------- | ------------- \n",
    "$\\frac{\\cos(\\theta/2)^2}{2}$|$\\frac{\\cos(\\theta/2)^2}{2}$|$\\frac{(\\cos(\\theta/2)+\\sin(\\theta/2))^2}{4}$|$\\frac{(\\cos(\\theta/2)-\\sin(\\theta/2))^2}{4}$|$1$ |1+$\\cos(\\theta)/2$|\n",
    "$\\frac{\\sin(\\theta/2)^2}{2}$|$\\frac{\\sin(\\theta/2)^2}{2}$|$\\frac{(\\cos(\\theta/2)-\\sin(\\theta/2))^2}{4}$|$\\frac{(\\cos(\\theta/2)+\\sin(\\theta/2))^2}{4}$|$-1$|1-$\\cos(\\theta)/2$| \n",
    "$\\frac{\\sin(\\theta/2)^2}{2}$|$\\frac{\\sin(\\theta/2)^2}{2}$|$\\frac{(\\cos(\\theta/2)-\\sin(\\theta/2))^2}{4}$|$\\frac{(\\cos(\\theta/2)+\\sin(\\theta/2))^2}{4}$|$-1$|1-$\\cos(\\theta)/2$|  \n",
    "$\\frac{\\cos(\\theta/2)^2}{2}$|$\\frac{\\cos(\\theta/2)^2}{2}$|$\\frac{(\\cos(\\theta/2)+\\sin(\\theta/2))^2}{4}$|$\\frac{(\\cos(\\theta/2)-\\sin(\\theta/2))^2}{4}$|$1$ |1+$\\cos(\\theta)/2$| \n",
    "\n",
    "One can easily verify that these are well-normalized probabilities: \n",
    "$$\\sum_{\\lambda \\in columm} P(\\lambda,\\theta_{ZZ})\n",
    "=\\sum_{\\lambda \\in columm} P(\\lambda,\\theta_{XX})\n",
    "=\\sum_{\\lambda \\in columm} P(\\lambda,\\theta_{ZX})\n",
    "=\\sum_{\\lambda \\in columm} P(\\lambda,\\theta_{XZ})=1.$$\n",
    "\n"
   ]
  },
  {
   "cell_type": "code",
   "execution_count": 34,
   "metadata": {},
   "outputs": [
    {
     "name": "stdout",
     "output_type": "stream",
     "text": [
      "Date and time of last run (start and end):\n",
      "2018-11-01 18:22:04.829282\n",
      "2018-11-01 18:23:20.659244\n",
      "Tota run time of the last run:\n",
      "0:01:15.829962\n"
     ]
    }
   ],
   "source": [
    "import datetime\n",
    "end_time = datetime.datetime.now()\n",
    "print\n",
    "print (\"Date and time of last run (start and end):\")\n",
    "print (str(start_time))\n",
    "print (str(end_time))\n",
    "print (\"Tota run time of the last run:\")\n",
    "print (str(end_time-start_time))\n"
   ]
  },
  {
   "cell_type": "code",
   "execution_count": null,
   "metadata": {},
   "outputs": [],
   "source": []
  }
 ],
 "metadata": {
  "anaconda-cloud": {},
  "kernelspec": {
   "display_name": "Python 3",
   "language": "python",
   "name": "python3"
  },
  "language_info": {
   "codemirror_mode": {
    "name": "ipython",
    "version": 3
   },
   "file_extension": ".py",
   "mimetype": "text/x-python",
   "name": "python",
   "nbconvert_exporter": "python",
   "pygments_lexer": "ipython3",
   "version": "3.7.0"
  }
 },
 "nbformat": 4,
 "nbformat_minor": 1
}
