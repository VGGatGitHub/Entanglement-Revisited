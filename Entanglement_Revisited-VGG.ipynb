{
 "cells": [
  {
   "cell_type": "markdown",
   "metadata": {},
   "source": [
    "## _*Entanglement Revisited*_ \n",
    "\n",
    "The original version of this notebook is available on https://github.com/QISKit/qiskit-tutorial.\n",
    "\n",
    "***\n",
    "### Original Contributors\n",
    "Jay Gambetta, Antonio Córcoles\n",
    "\n",
    "### Current Modifications and Additions for The Quantum Widget Company\n",
    "Dr. V. G. Gueorguiev "
   ]
  },
  {
   "cell_type": "markdown",
   "metadata": {},
   "source": [
    "## Entanglement\n",
    "\n",
    "The quantum concept of entanglement was introduced in [superposition and entanglement](superposition_and_entanglement.ipynb),  where the quantum state $|\\psi\\rangle= (|00\\rangle+|11\\rangle)/\\sqrt{2}$ and showed that (accounting for experimental noise) the system has perfect correlations in both the computational and superposition bases. This means if $q_0$ is measured in state $|0\\rangle$, we know $q_1$ is in the same state; likewise, if $q_0$ is measured in state $|+\\rangle$, we know $q_1$ is also in the same state.\n",
    "\n",
    "To understand the implications of this in more detail, we will look at the following topics in this notebook:\n",
    "* [Two-Qubit Correlated Observables](#section1)\n",
    "* [The CHSH Inequality](#section2)\n",
    "* [CHSH Inequality with Z and X Measurements](#section3)\n",
    "* [Expressing the Bell State in the Four Basis Sets](#section4)\n",
    "* [CHSH Graph](#section5)\n",
    "* [Closing Remarks](#section6)\n"
   ]
  },
  {
   "cell_type": "markdown",
   "metadata": {},
   "source": [
    "## Two-Qubit Correlated Observables<a id='section1'></a>\n",
    "\n",
    "An observable is a Hermitian matrix where the real eigenvalues represent the outcome of the experiment, and the eigenvectors are the states to which the system is projected under measurement. That is, an observable $A$ is given by\n",
    "  \n",
    "\n",
    "$$  A = \\sum_j a_j|a_j\\rangle\\langle a_j|$$ \n",
    "\n",
    "where $|a_j\\rangle$ is the eigenvector of the observable with result $a_j$. The expectation value of this observable is given by \n",
    "\n",
    "$$\\langle  A \\rangle  = \\sum_j a_j |\\langle \\psi  |a_j\\rangle|^2  = \\sum_j a_j \\mathrm{Pr}(a_j|\\psi).$$\n",
    "\n",
    "We can see that this is the standard relationship between average (expectation value) and probability. \n",
    "\n",
    "The following are important two-outcome ($\\pm1$) single-qubit observables:  \n",
    "\n",
    "$$ Z= |0\\rangle\\langle 0| - |1\\rangle\\langle 1|$$ \n",
    "$$ X= |+\\rangle\\langle +| - |-\\rangle\\langle -|$$ \n",
    "\n",
    "where $ |\\mp \\rangle = (|0\\rangle \\mp  |1\\rangle)/\\sqrt{2}$.\n",
    "\n",
    "\n",
    "These are also commonly referred to as the Pauli $Z$ and $X$ operators. These can be further extended to the two-qubit space to give \n",
    "\n",
    "$$\\langle  I\\otimes  Z\\rangle =\\mathrm{Pr}(00|\\psi) - \\mathrm{Pr}(01|\\psi) +  \\mathrm{Pr}(10|\\psi)- \\mathrm{Pr}(11|\\psi)$$ \n",
    "$$\\langle  Z\\otimes  I\\rangle =\\mathrm{Pr}(00|\\psi) + \\mathrm{Pr}(01|\\psi) -  \\mathrm{Pr}(10|\\psi)- \\mathrm{Pr}(11|\\psi)$$ \n",
    "$$\\langle  Z\\otimes  Z\\rangle =\\mathrm{Pr}(00|\\psi) - \\mathrm{Pr}(01|\\psi) -  \\mathrm{Pr}(10|\\psi)+ \\mathrm{Pr}(11|\\psi)$$ \n",
    "\n",
    "$$\\langle  I\\otimes  X\\rangle =\\mathrm{Pr}(++|\\psi) - \\mathrm{Pr}(+-|\\psi) +  \\mathrm{Pr}(-+|\\psi)- \\mathrm{Pr}(--|\\psi)$$ \n",
    "$$\\langle  X\\otimes  I\\rangle =\\mathrm{Pr}(++|\\psi) + \\mathrm{Pr}(+-|\\psi) -  \\mathrm{Pr}(-+|\\psi)- \\mathrm{Pr}(--|\\psi)$$ \n",
    "$$\\langle  X\\otimes  X\\rangle =\\mathrm{Pr}(++|\\psi) - \\mathrm{Pr}(+-|\\psi) -  \\mathrm{Pr}(-+|\\psi)+ \\mathrm{Pr}(--|\\psi)$$ \n",
    "\n",
    "\n",
    "$$\\langle  Z\\otimes  X\\rangle =\\mathrm{Pr}(0+|\\psi) - \\mathrm{Pr}(0-|\\psi) -  \\mathrm{Pr}(1+|\\psi)+ \\mathrm{Pr}(1-|\\psi)$$ \n",
    "$$\\langle  X\\otimes  Z\\rangle =\\mathrm{Pr}(+0|\\psi) - \\mathrm{Pr}(+1|\\psi) -  \\mathrm{Pr}(-0|\\psi)+ \\mathrm{Pr}(-1|\\psi)$$ "
   ]
  },
  {
   "cell_type": "markdown",
   "metadata": {},
   "source": [
    "## The CHSH Inequality <a id='section2'></a>\n",
    "\n",
    "\n",
    "In the CHSH inequality, we measure the correlator of four observables: $A$ and $A'$ on $q_0$, and $B$ and $B'$ on $q_1$, which have eigenvalues $\\pm 1$. The CHSH inequality says that no local hidden variable theory can have  \n",
    "\n",
    "$$|C|>2$$ \n",
    "\n",
    "where \n",
    "\n",
    "$$C = \\langle B\\otimes A\\rangle + \\langle B\\otimes A'\\rangle+\\langle B'\\otimes A'\\rangle-\\langle B'\\otimes A\\rangle.$$\n",
    "\n",
    "Next, we introduce the concept of a *simple hidden variable model*. If we assume there is a hidden variable $\\lambda$ and follow these two assumptions: \n",
    "\n",
    "* _Locality_: No information can travel faster than the speed of light. There is a hidden variable $\\lambda$ that defines all the correlations so that  \n",
    "\n",
    "$$\\langle A\\otimes B\\rangle = \\sum_\\lambda P(\\lambda) A(\\lambda) B(\\lambda).$$ \n",
    "                      \n",
    "* _Realism_: All observables have a definite value independent of the measurement ($A(\\lambda)=\\pm1$ etc.).\n",
    "\n",
    "What would this look like with some hidden variable model under the locality and realism assumptions from above? \n",
    "\n",
    "$C$ then becomes \n",
    "\n",
    "$$C = \\sum_\\lambda P(\\lambda) \\{ B(\\lambda) [ A(\\lambda)+A'(\\lambda)] + B'(\\lambda) [ A'(\\lambda)-A(\\lambda)]$$\n",
    "                      \n",
    "and $[A(\\lambda)+A'(\\lambda)]=2$ (or 0) while $[A'(\\lambda)-A(\\lambda)]=0$ (or 2) respectively. \n",
    "Since, $\\sum_\\lambda P(\\lambda)=1$, then this gives $|C|\\le 2$, and noise will only make this smaller. \n",
    " "
   ]
  },
  {
   "cell_type": "markdown",
   "metadata": {},
   "source": [
    "## CHSH Inequality with Z and X Measurements  <a id='section3'></a>\n",
    "\n",
    "Recall that to make the Bell state $|\\psi\\rangle= (|00\\rangle+|11\\rangle)/\\sqrt{2}$ from the initial state $|00\\rangle$, the quantum circuit first applies a Hadamard on $q_0$, followed by a CNOT from $q_0$ to $q_1$. \n",
    "On the IBM Q experience, this can be done by using the script below to measure the above expectation values; we run four different experiments with measurements in the standard basis, superposition basis, and a combination of both.\n",
    "\n",
    "If we measure a number greater than 2, the above assumptions cannot be valid. For simplicity, we choose these observables to be \n",
    "\n",
    " $$C = \\langle Z\\otimes Z\\rangle + \\langle Z\\otimes X\\rangle+\\langle X\\otimes X\\rangle-\\langle X\\otimes Z\\rangle.$$\n",
    "\n",
    "$Z$ is measured in the computational basis, and $X$ in the superposition basis ($H$ is applied before measurement). \n",
    "The input state \n",
    "\n",
    "$$|\\psi(\\theta)\\rangle = I\\otimes Y(\\theta)\\frac{|00\\rangle + |11\\rangle}{\\sqrt(2)} \n",
    "= \\frac{\\cos(\\theta/2)|00\\rangle+\\sin(\\theta/2)|01\\rangle + \\cos(\\theta/2)|11\\rangle-\\sin(\\theta/2)|10\\rangle}{\\sqrt{2}}$$ \n",
    "\n",
    "is swept vs. $\\theta$ (think of this as allowing us to prepare a set of states varying in the angle $\\theta$ or to choose the orientation of our measurement apparatus).\n",
    " \n",
    "Note that the following demonstration of CHSH is not loophole-free. "
   ]
  },
  {
   "cell_type": "markdown",
   "metadata": {},
   "source": [
    "## Expressing the Bell State in the Four Basis Sets  <a id='section4'></a>\n",
    "\n",
    "Let's consider the freedom in the orientation of our measurement apparatus and express it via $\\theta$, then the entangled state in the various basis sets will be:\n",
    " \n",
    "  $$|\\psi(\\theta)\\rangle = I\\otimes Y(\\theta)\\frac{|00\\rangle + |11\\rangle}{\\sqrt(2)} \n",
    "= \\frac{\\cos(\\theta/2)|00\\rangle+\\sin(\\theta/2)|01\\rangle -\\sin(\\theta/2)|10\\rangle + \\cos(\\theta/2)|11\\rangle}{\\sqrt{2}}$$  \n",
    "\n",
    "by using $|0 \\rangle =\\frac{1}{\\sqrt{2}}(|+\\rangle + |-\\rangle) $ and $|1 \\rangle =\\frac{1}{\\sqrt{2}}(|+\\rangle - |-\\rangle) $, \n",
    "since $ |\\mp \\rangle = \\frac{1}{\\sqrt{2}}(|0\\rangle \\mp  |1\\rangle)$ one has:\n",
    "\n",
    " $$|\\psi(\\theta)\\rangle  \n",
    "= \\frac{\\cos(\\theta/2)|++\\rangle -\\sin(\\theta/2)|+-\\rangle +\\sin(\\theta/2)|-+\\rangle + \\cos(\\theta/2)|--\\rangle}{\\sqrt{2}}$$ \n",
    "\n",
    "In the mixed ZX basis this is:\n",
    "$$\n",
    "\\psi(\\theta)\\rangle =\\frac{1}{2}(\n",
    "(\\cos(\\theta/2)+\\sin(\\theta/2)|0+\\rangle\n",
    "+(\\cos(\\theta/2)-\\sin(\\theta/2))|0-\\rangle\n",
    "+(\\cos(\\theta/2)-\\sin(\\theta/2))|1+\\rangle \n",
    "-(\\sin(\\theta/2)+\\cos(\\theta/2))|1-\\rangle\n",
    ")$$\n",
    "\n",
    "In the mixed XZ basis this is:\n",
    "$$  \n",
    "\\psi(\\theta)\\rangle =\\frac{1}{2}(\n",
    "(\\cos(\\theta/2)-\\sin(\\theta/2))|+0\\rangle \n",
    "+(\\cos(\\theta/2)+\\sin(\\theta/2))|+1\\rangle\n",
    "+(\\sin(\\theta/2)+\\cos(\\theta/2))|-0\\rangle \n",
    "+(\\sin(\\theta/2)-\\cos(\\theta/2))|-1\\rangle\n",
    ")$$\n",
    "\n",
    "This will allow us to define a more sophisticated hidden variable model:\n",
    "\n",
    "$$\\langle A\\otimes B\\rangle = \\sum_\\lambda P(\\lambda,\\theta_{AB}) A(\\lambda) B(\\lambda).$$ \n"
   ]
  },
  {
   "cell_type": "code",
   "execution_count": 10,
   "metadata": {
    "collapsed": false
   },
   "outputs": [
    {
     "ename": "Exception",
     "evalue": "Please use Python version 3.5 or greater.",
     "output_type": "error",
     "traceback": [
      "\u001b[0;31m---------------------------------------------------------------------------\u001b[0m",
      "\u001b[0;31mException\u001b[0m                                 Traceback (most recent call last)",
      "\u001b[0;32m<ipython-input-10-a998035dd3e8>\u001b[0m in \u001b[0;36m<module>\u001b[0;34m()\u001b[0m\n\u001b[1;32m      1\u001b[0m \u001b[0;31m# Checking the version of PYTHON; we only support > 3.5\u001b[0m\u001b[0;34m\u001b[0m\u001b[0;34m\u001b[0m\u001b[0m\n\u001b[1;32m      2\u001b[0m \u001b[0;32mimport\u001b[0m \u001b[0msys\u001b[0m\u001b[0;34m\u001b[0m\u001b[0m\n\u001b[0;32m----> 3\u001b[0;31m \u001b[0;32mif\u001b[0m \u001b[0msys\u001b[0m\u001b[0;34m.\u001b[0m\u001b[0mversion_info\u001b[0m \u001b[0;34m<\u001b[0m \u001b[0;34m(\u001b[0m\u001b[0;36m3\u001b[0m\u001b[0;34m,\u001b[0m\u001b[0;36m5\u001b[0m\u001b[0;34m)\u001b[0m\u001b[0;34m:\u001b[0m \u001b[0;32mraise\u001b[0m \u001b[0mException\u001b[0m\u001b[0;34m(\u001b[0m\u001b[0;34m'Please use Python version 3.5 or greater.'\u001b[0m\u001b[0;34m)\u001b[0m\u001b[0;34m\u001b[0m\u001b[0m\n\u001b[0m\u001b[1;32m      4\u001b[0m \u001b[0;34m\u001b[0m\u001b[0m\n\u001b[1;32m      5\u001b[0m \u001b[0;31m# useful additional packages\u001b[0m\u001b[0;34m\u001b[0m\u001b[0;34m\u001b[0m\u001b[0m\n",
      "\u001b[0;31mException\u001b[0m: Please use Python version 3.5 or greater."
     ]
    }
   ],
   "source": [
    "# Checking the version of PYTHON; we only support > 3.5\n",
    "import sys\n",
    "if sys.version_info < (3,5): \n",
    "    raise Exception('Please use Python version 3.5 or greater.')\n",
    "    \n",
    "# useful additional packages \n",
    "import matplotlib.pyplot as plt\n",
    "#matplotlib inline\n",
    "import numpy as np\n",
    "\n",
    "# importing the QISKit\n",
    "from qiskit import QuantumCircuit, QuantumProgram\n",
    "import Qconfig\n",
    "\n",
    "# import basic plot tools\n",
    "from qiskit.tools.visualization import plot_histogram"
   ]
  },
  {
   "cell_type": "code",
   "execution_count": 205,
   "metadata": {
    "collapsed": false
   },
   "outputs": [
    {
     "data": {
      "text/plain": [
       "<qiskit._measure.Measure at 0xae0390>"
      ]
     },
     "execution_count": 205,
     "metadata": {},
     "output_type": "execute_result"
    }
   ],
   "source": [
    "backend = 'ibmqx2' # the backend to run on\n",
    "backend = 'local_qasm_simulator' #VGG\n",
    "shots = 1024    # the number of shots in the experiment. \n",
    "# backend = 'simulator' # the backend test purpose\n",
    "\n",
    "QPS_SPECS = {\n",
    "    'circuits': [{\n",
    "        'name': 'bell',\n",
    "        'quantum_registers': [{\n",
    "            'name':'q',\n",
    "            'size':2\n",
    "        }],\n",
    "        'classical_registers': [{\n",
    "            'name':'c',\n",
    "            'size':2\n",
    "        }]}],\n",
    "}\n",
    "\n",
    "Q_program = QuantumProgram(specs=QPS_SPECS)\n",
    "Q_program.set_api(Qconfig.APItoken, Qconfig.config['url'])\n",
    "\n",
    "# quantum circuit to make Bell state \n",
    "bell = Q_program.get_circuit('bell')\n",
    "q = Q_program.get_quantum_register('q')\n",
    "c = Q_program.get_classical_register('c')\n",
    "\n",
    "bell.h(q[0])\n",
    "bell.cx(q[0],q[1])\n",
    "\n",
    "#VGG: consider a misalignment by an angle theta \n",
    "#(rotaion around the y-axes) in the measurment done by Alice on q0\n",
    "#VGG 2pi/10 is close to the maximum of the CHSH inequality\n",
    "theta =2.0*np.pi*np.random.random()\n",
    "bell.ry(theta,q[0])\n",
    "    \n",
    "# quantum circuit to measure q in standard basis \n",
    "measureZZ = Q_program.create_circuit('measureZZ', [q], [c])\n",
    "measureZZ.measure(q[0], c[0])\n",
    "measureZZ.measure(q[1], c[1])\n",
    "\n",
    "# quantum circuit to measure q in superposition basis \n",
    "measureXX = Q_program.create_circuit('measureXX', [q], [c])\n",
    "measureXX.h(q[0])\n",
    "measureXX.h(q[1])\n",
    "measureXX.measure(q[0], c[0])\n",
    "measureXX.measure(q[1], c[1])\n",
    "\n",
    "# quantum circuit to measure ZX\n",
    "measureZX = Q_program.create_circuit('measureZX', [q], [c])\n",
    "measureZX.h(q[0])\n",
    "measureZX.measure(q[0], c[0])\n",
    "measureZX.measure(q[1], c[1])\n",
    "\n",
    "# quantum circuit to measure XZ\n",
    "measureXZ = Q_program.create_circuit('measureXZ', [q], [c])\n",
    "measureXZ.h(q[1])\n",
    "measureXZ.measure(q[0], c[0])\n",
    "measureXZ.measure(q[1], c[1])"
   ]
  },
  {
   "cell_type": "code",
   "execution_count": 206,
   "metadata": {
    "collapsed": false
   },
   "outputs": [
    {
     "data": {
      "text/plain": [
       "['OPENQASM 2.0;\\ninclude \"qelib1.inc\";\\nqreg q[2];\\ncreg c[2];\\nh q[0];\\ncx q[0],q[1];\\nry(5.60588678888849) q[0];\\nmeasure q[0] -> c[0];\\nmeasure q[1] -> c[1];\\n',\n",
       " 'OPENQASM 2.0;\\ninclude \"qelib1.inc\";\\nqreg q[2];\\ncreg c[2];\\nh q[0];\\ncx q[0],q[1];\\nry(5.60588678888849) q[0];\\nh q[0];\\nmeasure q[0] -> c[0];\\nmeasure q[1] -> c[1];\\n',\n",
       " 'OPENQASM 2.0;\\ninclude \"qelib1.inc\";\\nqreg q[2];\\ncreg c[2];\\nh q[0];\\ncx q[0],q[1];\\nry(5.60588678888849) q[0];\\nh q[0];\\nh q[1];\\nmeasure q[0] -> c[0];\\nmeasure q[1] -> c[1];\\n',\n",
       " 'OPENQASM 2.0;\\ninclude \"qelib1.inc\";\\nqreg q[2];\\ncreg c[2];\\nh q[0];\\ncx q[0],q[1];\\nry(5.60588678888849) q[0];\\nh q[1];\\nmeasure q[0] -> c[0];\\nmeasure q[1] -> c[1];\\n']"
      ]
     },
     "execution_count": 206,
     "metadata": {},
     "output_type": "execute_result"
    }
   ],
   "source": [
    "Q_program.add_circuit('bell_measureZX', bell+measureZX )\n",
    "Q_program.add_circuit('bell_measureXZ', bell+measureXZ )\n",
    "Q_program.add_circuit('bell_measureZZ', bell+measureZZ )\n",
    "Q_program.add_circuit('bell_measureXX', bell+measureXX )\n",
    "\n",
    "circuits = ['bell_measureZZ', 'bell_measureZX', 'bell_measureXX', 'bell_measureXZ']\n",
    "Q_program.get_qasms(circuits)"
   ]
  },
  {
   "cell_type": "code",
   "execution_count": null,
   "metadata": {
    "collapsed": true
   },
   "outputs": [],
   "source": [
    "result = Q_program.execute(circuits, backend=backend, shots=shots, max_credits=3, wait=10, timeout=240)"
   ]
  },
  {
   "cell_type": "markdown",
   "metadata": {},
   "source": [
    "Above we have defined an entangled state and its measurements. A random angle $\\theta$ is utilized to demonstrate the QM probability outcomes and to compare to the relevant expressions for $P(\\lambda,\\theta_{AB})$ in the subsequent graphs and their data."
   ]
  },
  {
   "cell_type": "code",
   "execution_count": 208,
   "metadata": {
    "collapsed": false
   },
   "outputs": [
    {
     "data": {
      "image/png": "[encoded data removed]",
      "text/plain": [
       "<matplotlib.figure.Figure at 0x918cad0>"
      ]
     },
     "metadata": {},
     "output_type": "display_data"
    },
    {
     "name": "stdout",
     "output_type": "stream",
     "text": [
      "[0.44481713804384776, 0.055182861956152275, 0.055182861956152275, 0.44481713804384776]\n"
     ]
    },
    {
     "data": {
      "image/png": "[encoded data removed]",
      "text/plain": [
       "<matplotlib.figure.Figure at 0xae7d30>"
      ]
     },
     "metadata": {},
     "output_type": "display_data"
    },
    {
     "data": {
      "image/png": "[encoded data removed]",
      "text/plain": [
       "<matplotlib.figure.Figure at 0x926b6b0>"
      ]
     },
     "metadata": {},
     "output_type": "display_data"
    },
    {
     "name": "stdout",
     "output_type": "stream",
     "text": [
      "[0.09332746659224414, 0.40667253340775583, 0.40667253340775583, 0.09332746659224414]\n"
     ]
    },
    {
     "data": {
      "image/png": "[encoded data removed]",
      "text/plain": [
       "<matplotlib.figure.Figure at 0x929a770>"
      ]
     },
     "metadata": {},
     "output_type": "display_data"
    },
    {
     "name": "stdout",
     "output_type": "stream",
     "text": [
      "[0.40667253340775583, 0.09332746659224414, 0.09332746659224414, 0.40667253340775583]\n"
     ]
    }
   ],
   "source": [
    "#Since XX_Probability=ZZ_Probability we name the function QM_Probability\n",
    "\n",
    "QM_Probability=[0.5*np.cos(theta/2)**2,0.5*np.sin(theta/2)**2,0.5*np.sin(theta/2)**2,0.5*np.cos(theta/2)**2]\n",
    "\n",
    "ZX_Probability=[0.25*(np.cos(theta/2)+np.sin(theta/2))**2,\n",
    "              0.25*(np.cos(theta/2)-np.sin(theta/2))**2,\n",
    "              0.25*(np.cos(theta/2)-np.sin(theta/2))**2,\n",
    "              0.25*(np.cos(theta/2)+np.sin(theta/2))**2]\n",
    "\n",
    "XZ_Probability=[0.25*(np.cos(theta/2)-np.sin(theta/2))**2,\n",
    "              0.25*(np.cos(theta/2)+np.sin(theta/2))**2,\n",
    "              0.25*(np.cos(theta/2)+np.sin(theta/2))**2,\n",
    "              0.25*(np.cos(theta/2)-np.sin(theta/2))**2]\n",
    "\n",
    "plot_histogram(result.get_counts(\"bell_measureZZ\"))\n",
    "print(QM_Probability)\n",
    "plot_histogram(result.get_counts(\"bell_measureXX\"))\n",
    "\n",
    "plot_histogram(result.get_counts(\"bell_measureZX\"))\n",
    "print(ZX_Probability)\n",
    "\n",
    "plot_histogram(result.get_counts(\"bell_measureXZ\"))\n",
    "print(XZ_Probability)\n"
   ]
  },
  {
   "cell_type": "markdown",
   "metadata": {},
   "source": [
    "Since the Entangled quantum state has the form $|\\psi\\rangle=\\frac{1}{\\sqrt{2}}(|00\\rangle+|11\\rangle)= \\frac{1}{\\sqrt{2}}(|++\\rangle+|--\\rangle)$\n",
    "\n",
    "Z-basis outcome | Z (qubit 1) |Z (qubit 2)    || q1&q2 || X (qubit 1)| X (qubit 2) | X-basis outcome  \n",
    "------------- | -------------  | -------------  | ------------- | ------------- | ------------- \n",
    "00  | 1 | 1 || 1 || 1 | 1 | $+ +$ \n",
    "01  |-1 | 1 ||-1 ||-1 | 1 | $+ -$ \n",
    "10  | 1 |-1 ||-1 || 1 |-1 | $- +$  \n",
    "11  |-1 |-1 || 1 ||-1 |-1 | $- -$ "
   ]
  },
  {
   "cell_type": "code",
   "execution_count": 209,
   "metadata": {
    "collapsed": true
   },
   "outputs": [],
   "source": [
    "observable_first_ideal ={'00': 1, '01': -1, '10': 1, '11': -1}\n",
    "observable_second_ideal ={'00': 1, '01': 1, '10': -1, '11': -1}\n",
    "observable_correlated_ideal ={'00': 1, '01': -1, '10': -1, '11': 1}"
   ]
  },
  {
   "cell_type": "code",
   "execution_count": 210,
   "metadata": {
    "collapsed": false
   },
   "outputs": [
    {
     "name": "stdout",
     "output_type": "stream",
     "text": [
      "QM results\n",
      "theta= 5.60588678888849\n",
      "ZZ= {'00': 463, '11': 435, '01': 70, '10': 56}\n",
      "XX= {'00': 445, '11': 462, '01': 57, '10': 60}\n",
      "ZX= {'10': 438, '01': 402, '00': 84, '11': 100}\n",
      "XZ= {'00': 436, '11': 410, '10': 90, '01': 88}\n",
      "IZ = 0.013671875\n",
      "ZI = 0.041015625\n",
      "ZZ = 0.75390625\n",
      "IX = -0.013671875\n",
      "XI = -0.01953125\n",
      "XX = 0.771484375\n",
      "ZX = -0.640625\n",
      "XZ = 0.65234375\n"
     ]
    }
   ],
   "source": [
    "print(\"QM results\")\n",
    "\n",
    "print(\"theta=\",theta)\n",
    "print(\"ZZ=\",result.get_counts(\"bell_measureZZ\"))\n",
    "print(\"XX=\",result.get_counts(\"bell_measureXX\"))\n",
    "print(\"ZX=\",result.get_counts(\"bell_measureZX\"))\n",
    "print(\"XZ=\",result.get_counts(\"bell_measureXZ\"))\n",
    "\n",
    "print('IZ = ' + str(result.average_data('bell_measureZZ',observable_first_ideal)))\n",
    "print('ZI = ' + str(result.average_data('bell_measureZZ',observable_second_ideal)))\n",
    "print('ZZ = ' + str(result.average_data('bell_measureZZ',observable_correlated_ideal)))\n",
    "\n",
    "print('IX = ' + str(result.average_data('bell_measureXX',observable_first_ideal)))\n",
    "print('XI = ' + str(result.average_data('bell_measureXX',observable_second_ideal)))\n",
    "print('XX = ' + str(result.average_data('bell_measureXX',observable_correlated_ideal)))\n",
    "\n",
    "print('ZX = ' + str(result.average_data('bell_measureZX',observable_correlated_ideal)))\n",
    "print('XZ = ' + str(result.average_data('bell_measureXZ',observable_correlated_ideal)))"
   ]
  },
  {
   "cell_type": "code",
   "execution_count": 211,
   "metadata": {
    "collapsed": false
   },
   "outputs": [
    {
     "name": "stdout",
     "output_type": "stream",
     "text": [
      "Probability(A,B) model gives:\n",
      "IZ_th = 0.0\n",
      "ZI_th = 0.0\n",
      "ZZ_th = 0.7792685521753909\n",
      "IX_th = 0.0\n",
      "XI_th = 0.0\n",
      "XX_th = 0.7792685521753909\n",
      "ZX_th = -0.6266901336310233\n",
      "XZ_th = 0.6266901336310233\n"
     ]
    }
   ],
   "source": [
    "IZ_th=[1,-1, 1,-1];ZI_th=[1, 1,-1,-1];ZZ_th=[+1,-1,-1,+1]\n",
    "IX_th=[1,-1, 1,-1];XI_th=[1, 1,-1,-1];XX_th=[+1,-1,-1,+1]\n",
    "ZX_th=[+1,-1,-1,+1];XZ_th=[+1,-1,-1,+1]\n",
    "\n",
    "print('Probability(A,B) model gives:')\n",
    "print('IZ_th = ' + str(np.dot(QM_Probability,IZ_th)))\n",
    "print('ZI_th = ' + str(np.dot(QM_Probability,ZI_th)))\n",
    "print('ZZ_th = ' + str(np.dot(QM_Probability,ZZ_th)))\n",
    "print('IX_th = ' + str(np.dot(QM_Probability,IX_th)))\n",
    "print('XI_th = ' + str(np.dot(QM_Probability,XI_th)))\n",
    "print('XX_th = ' + str(np.dot(QM_Probability,XX_th)))\n",
    "print('ZX_th = '  + str(np.dot(ZX_Probability,ZX_th)))\n",
    "print('XZ_th = '  + str(np.dot(XZ_Probability,XZ_th)))"
   ]
  },
  {
   "cell_type": "code",
   "execution_count": 212,
   "metadata": {
    "collapsed": false
   },
   "outputs": [
    {
     "name": "stdout",
     "output_type": "stream",
     "text": [
      "QM upper limit is 2*sqrt(2) = 2.8284271247461903\n",
      "QM CHSH gives ZZ+XX +ZX -XZ = 0.232421875\n",
      "Probability(A,B) model gives= 0.3051568370887352\n"
     ]
    }
   ],
   "source": [
    "print('QM upper limit is 2*sqrt(2) =', 2*np.sqrt(2))\n",
    "\n",
    "print('QM CHSH gives ZZ+XX +ZX -XZ =',\n",
    "    result.average_data('bell_measureZZ',observable_correlated_ideal)\n",
    "    +result.average_data('bell_measureXX',observable_correlated_ideal)\n",
    "    +result.average_data('bell_measureZX',observable_correlated_ideal)\n",
    "    -result.average_data('bell_measureXZ',observable_correlated_ideal))\n",
    "\n",
    "print('Probability(A,B) model gives=',\n",
    "    np.dot(QM_Probability,ZZ_th)\n",
    "    +np.dot(QM_Probability,XX_th)\n",
    "    +np.dot(ZX_Probability,ZX_th) \n",
    "    -np.dot(XZ_Probability,XZ_th))"
   ]
  },
  {
   "cell_type": "markdown",
   "metadata": {},
   "source": [
    "For any $\\theta$, and in particular for $\\theta=0$, one can see that the measurements on ZI, IZ, ZZ, XX, IX, XI result in the values as shown in the table below. The mathematical expression of the QM-Probability($\\theta$) and the corresponding AB-values above guarantee the expectation values 0 or 1.\n",
    "\n",
    "However, the zero expectation value for ZX and XZ is not guaranteed for any angle $\\theta$. The corresponding probabilities nevertheless guarantee that $\\langle ZX \\rangle=-\\langle XZ \\rangle$ because of the functional form of the probability $P(\\lambda,\\theta_{AB})$  and the associated AB-outcomes.  \n",
    "\n",
    "Observable    | Expected value |Observable    | Expected value|Observable    | Expected value\n",
    "------------- | -------------  | ------------- | ------------- | ------------- | -------------\n",
    "ZZ  | 1   |XX  | 1  | ZX  | 0 ? \n",
    "ZI  | 0   |XI  | 0  | XZ  | 0 ?\n",
    "IZ  | 0   |IX  | 0  |   |\n",
    "\n",
    "Next, let's introduce the concept of a *$\\theta$ hidden variable model*. \n",
    "If we assume there are hidden variables $\\lambda$ and $\\theta$ that defines all the correlations so that:\n",
    "\n",
    "$$\\langle A\\otimes B\\rangle = \\sum_\\lambda P(\\lambda,\\theta_{AB}) A(\\lambda) B(\\lambda).$$ \n",
    "                      \n",
    "while ($A(\\lambda)=\\pm1$ etc.). \n",
    "\n",
    "Then how well can we describe these observations? --- The answer is very well! \n",
    "\n",
    "Thus, with the *$\\theta$ hidden variable model*, we are able to reconcile the measured observations for this particular Entangled states. \n",
    "\n",
    "For this purpose, we define the $P(\\lambda,\\theta_{AB})$ function below, as well as a simulator and real 2q-bit circuits. In the end, we will compare all the results."
   ]
  },
  {
   "cell_type": "code",
   "execution_count": 192,
   "metadata": {
    "collapsed": true
   },
   "outputs": [],
   "source": [
    "#VGG since XXP is the same as ZZP we define them both as QMP.\n",
    "\n",
    "QMP = lambda x : np.array([0.5*np.cos(x/2)**2, 0.5*np.sin(x/2)**2, 0.5*np.sin(x/2)**2, 0.5*np.cos(x/2)**2]);\n",
    "\n",
    "ZXP = lambda x : np.array([0.25*(np.cos(x/2)+np.sin(x/2))**2, \n",
    "                     0.25*(np.cos(x/2)-np.sin(x/2))**2,\n",
    "                     0.25*(np.cos(x/2)-np.sin(x/2))**2,\n",
    "                     0.25*(np.cos(x/2)+np.sin(x/2))**2]);\n",
    "\n",
    "XZP = lambda x : np.array([0.25*(np.cos(x/2)-np.sin(x/2))**2, \n",
    "                     0.25*(np.cos(x/2)+np.sin(x/2))**2,\n",
    "                     0.25*(np.cos(x/2)+np.sin(x/2))**2,\n",
    "                     0.25*(np.cos(x/2)-np.sin(x/2))**2]);\n",
    "\n",
    "ZZXXZX_XZP = lambda x : 2*QMP(x)+ZXP(x)-XZP(x);\n",
    "\n",
    "\n",
    "ZZXXZX_XZ_value =  lambda x : np.dot(ZZXXZX_XZP(x),[1,-1,-1,1]);\n"
   ]
  },
  {
   "cell_type": "code",
   "execution_count": 193,
   "metadata": {
    "collapsed": true
   },
   "outputs": [],
   "source": [
    "CHSH = lambda x : x[0]+x[1]+x[2]-x[3]"
   ]
  },
  {
   "cell_type": "code",
   "execution_count": 196,
   "metadata": {
    "collapsed": true
   },
   "outputs": [],
   "source": [
    "backend = 'local_qasm_simulator'\n",
    "shots = 2*1024 #VGG it was 8x more\n",
    "\n",
    "program = []\n",
    "xdata=[]\n",
    "\n",
    "ydata=[]\n",
    "\n",
    "program_end = [measureZZ, measureZX, measureXX, measureXZ]\n",
    "\n",
    "k = 0\n",
    "for jj in range(0,30):\n",
    "    theta = 2.0*np.pi*jj/30\n",
    "    bell_middle = QuantumCircuit(q,c)\n",
    "    bell_middle.ry(theta,q[0])\n",
    "    for i in range(4):\n",
    "        program.append('circuit'+str(k))\n",
    "        Q_program.add_circuit('circuit'+str(k), bell+bell_middle+program_end[i] )\n",
    "        k += 1\n",
    "        \n",
    "    xdata.append(theta)\n",
    "    ydata.append(ZZXXZX_XZ_value(theta))"
   ]
  },
  {
   "cell_type": "code",
   "execution_count": 197,
   "metadata": {
    "collapsed": false
   },
   "outputs": [
    {
     "data": {
      "text/plain": [
       "['OPENQASM 2.0;\\ninclude \"qelib1.inc\";\\nqreg q[2];\\ncreg c[2];\\nh q[0];\\ncx q[0],q[1];\\nry(0.0) q[0];\\nry(0.0) q[0];\\nmeasure q[0] -> c[0];\\nmeasure q[1] -> c[1];\\n',\n",
       " 'OPENQASM 2.0;\\ninclude \"qelib1.inc\";\\nqreg q[2];\\ncreg c[2];\\nh q[0];\\ncx q[0],q[1];\\nry(0.0) q[0];\\nry(0.0) q[0];\\nh q[0];\\nmeasure q[0] -> c[0];\\nmeasure q[1] -> c[1];\\n',\n",
       " 'OPENQASM 2.0;\\ninclude \"qelib1.inc\";\\nqreg q[2];\\ncreg c[2];\\nh q[0];\\ncx q[0],q[1];\\nry(0.0) q[0];\\nry(0.0) q[0];\\nh q[0];\\nh q[1];\\nmeasure q[0] -> c[0];\\nmeasure q[1] -> c[1];\\n',\n",
       " 'OPENQASM 2.0;\\ninclude \"qelib1.inc\";\\nqreg q[2];\\ncreg c[2];\\nh q[0];\\ncx q[0],q[1];\\nry(0.0) q[0];\\nry(0.0) q[0];\\nh q[1];\\nmeasure q[0] -> c[0];\\nmeasure q[1] -> c[1];\\n',\n",
       " 'OPENQASM 2.0;\\ninclude \"qelib1.inc\";\\nqreg q[2];\\ncreg c[2];\\nh q[0];\\ncx q[0],q[1];\\nry(0.0) q[0];\\nry(0.209439510239320) q[0];\\nmeasure q[0] -> c[0];\\nmeasure q[1] -> c[1];\\n',\n",
       " 'OPENQASM 2.0;\\ninclude \"qelib1.inc\";\\nqreg q[2];\\ncreg c[2];\\nh q[0];\\ncx q[0],q[1];\\nry(0.0) q[0];\\nry(0.209439510239320) q[0];\\nh q[0];\\nmeasure q[0] -> c[0];\\nmeasure q[1] -> c[1];\\n',\n",
       " 'OPENQASM 2.0;\\ninclude \"qelib1.inc\";\\nqreg q[2];\\ncreg c[2];\\nh q[0];\\ncx q[0],q[1];\\nry(0.0) q[0];\\nry(0.209439510239320) q[0];\\nh q[0];\\nh q[1];\\nmeasure q[0] -> c[0];\\nmeasure q[1] -> c[1];\\n',\n",
       " 'OPENQASM 2.0;\\ninclude \"qelib1.inc\";\\nqreg q[2];\\ncreg c[2];\\nh q[0];\\ncx q[0],q[1];\\nry(0.0) q[0];\\nry(0.209439510239320) q[0];\\nh q[1];\\nmeasure q[0] -> c[0];\\nmeasure q[1] -> c[1];\\n']"
      ]
     },
     "execution_count": 197,
     "metadata": {},
     "output_type": "execute_result"
    }
   ],
   "source": [
    "Q_program.get_qasms(program[0:8])"
   ]
  },
  {
   "cell_type": "code",
   "execution_count": 198,
   "metadata": {
    "collapsed": true
   },
   "outputs": [],
   "source": [
    "results = Q_program.execute(program, backend=backend, shots=shots, max_credits=3, wait=10, timeout=240)"
   ]
  },
  {
   "cell_type": "code",
   "execution_count": 199,
   "metadata": {
    "collapsed": true
   },
   "outputs": [],
   "source": [
    "CHSH_data_sim = []\n",
    "k = 0\n",
    "for j in range(len(xdata)):\n",
    "    temp=[]\n",
    "    for i in range(4): \n",
    "        temp.append(results.average_data('circuit'+str(k),observable_correlated_ideal))\n",
    "        k += 1\n",
    "    CHSH_data_sim.append(CHSH(temp))"
   ]
  },
  {
   "cell_type": "code",
   "execution_count": 200,
   "metadata": {
    "collapsed": true
   },
   "outputs": [],
   "source": [
    "backend = 'ibmqx2'\n",
    "# backend = 'local_qasm_simulator'\n",
    "\n",
    "shots = 1024\n",
    "\n",
    "program_real = []\n",
    "xdata_real=[]\n",
    "\n",
    "k = 0\n",
    "for jj in range(10):\n",
    "    theta = 2.0*np.pi*jj/10\n",
    "    bell_middle = QuantumCircuit(q,c)\n",
    "    bell_middle.ry(theta,q[0])\n",
    "    for i in range(4):\n",
    "        program_real.append('circuit_real'+str(k))\n",
    "        Q_program.add_circuit('circuit_real'+str(k), bell+bell_middle+program_end[i] )\n",
    "        k += 1\n",
    "        \n",
    "    xdata_real.append(theta)"
   ]
  },
  {
   "cell_type": "code",
   "execution_count": 201,
   "metadata": {
    "collapsed": false
   },
   "outputs": [
    {
     "data": {
      "text/plain": [
       "['OPENQASM 2.0;\\ninclude \"qelib1.inc\";\\nqreg q[2];\\ncreg c[2];\\nh q[0];\\ncx q[0],q[1];\\nry(0.0) q[0];\\nry(0.0) q[0];\\nmeasure q[0] -> c[0];\\nmeasure q[1] -> c[1];\\n',\n",
       " 'OPENQASM 2.0;\\ninclude \"qelib1.inc\";\\nqreg q[2];\\ncreg c[2];\\nh q[0];\\ncx q[0],q[1];\\nry(0.0) q[0];\\nry(0.0) q[0];\\nh q[0];\\nmeasure q[0] -> c[0];\\nmeasure q[1] -> c[1];\\n',\n",
       " 'OPENQASM 2.0;\\ninclude \"qelib1.inc\";\\nqreg q[2];\\ncreg c[2];\\nh q[0];\\ncx q[0],q[1];\\nry(0.0) q[0];\\nry(0.0) q[0];\\nh q[0];\\nh q[1];\\nmeasure q[0] -> c[0];\\nmeasure q[1] -> c[1];\\n',\n",
       " 'OPENQASM 2.0;\\ninclude \"qelib1.inc\";\\nqreg q[2];\\ncreg c[2];\\nh q[0];\\ncx q[0],q[1];\\nry(0.0) q[0];\\nry(0.0) q[0];\\nh q[1];\\nmeasure q[0] -> c[0];\\nmeasure q[1] -> c[1];\\n',\n",
       " 'OPENQASM 2.0;\\ninclude \"qelib1.inc\";\\nqreg q[2];\\ncreg c[2];\\nh q[0];\\ncx q[0],q[1];\\nry(0.0) q[0];\\nry(0.628318530717959) q[0];\\nmeasure q[0] -> c[0];\\nmeasure q[1] -> c[1];\\n',\n",
       " 'OPENQASM 2.0;\\ninclude \"qelib1.inc\";\\nqreg q[2];\\ncreg c[2];\\nh q[0];\\ncx q[0],q[1];\\nry(0.0) q[0];\\nry(0.628318530717959) q[0];\\nh q[0];\\nmeasure q[0] -> c[0];\\nmeasure q[1] -> c[1];\\n',\n",
       " 'OPENQASM 2.0;\\ninclude \"qelib1.inc\";\\nqreg q[2];\\ncreg c[2];\\nh q[0];\\ncx q[0],q[1];\\nry(0.0) q[0];\\nry(0.628318530717959) q[0];\\nh q[0];\\nh q[1];\\nmeasure q[0] -> c[0];\\nmeasure q[1] -> c[1];\\n',\n",
       " 'OPENQASM 2.0;\\ninclude \"qelib1.inc\";\\nqreg q[2];\\ncreg c[2];\\nh q[0];\\ncx q[0],q[1];\\nry(0.0) q[0];\\nry(0.628318530717959) q[0];\\nh q[1];\\nmeasure q[0] -> c[0];\\nmeasure q[1] -> c[1];\\n']"
      ]
     },
     "execution_count": 201,
     "metadata": {},
     "output_type": "execute_result"
    }
   ],
   "source": [
    "Q_program.get_qasms(program_real[0:8])"
   ]
  },
  {
   "cell_type": "code",
   "execution_count": 202,
   "metadata": {
    "collapsed": true
   },
   "outputs": [],
   "source": [
    "resultreal = Q_program.execute(program_real, backend=backend, shots=shots, max_credits=3, wait=10, timeout=240)"
   ]
  },
  {
   "cell_type": "code",
   "execution_count": 203,
   "metadata": {
    "collapsed": true
   },
   "outputs": [],
   "source": [
    "CHSH_data_real = []\n",
    "k = 0\n",
    "for j in range(len(xdata_real)):\n",
    "    temp=[]\n",
    "    for i in range(4): \n",
    "        temp.append(resultreal.average_data('circuit_real'+str(k),observable_correlated_ideal))\n",
    "        k += 1\n",
    "    CHSH_data_real.append(CHSH(temp))"
   ]
  },
  {
   "cell_type": "code",
   "execution_count": 204,
   "metadata": {
    "collapsed": false
   },
   "outputs": [
    {
     "data": {
      "image/png": "[encoded data removed]",
      "text/plain": [
       "<matplotlib.figure.Figure at 0xae9bf0>"
      ]
     },
     "metadata": {},
     "output_type": "display_data"
    }
   ],
   "source": [
    "plt.plot(xdata,CHSH_data_sim,'bo', xdata_real,CHSH_data_real,'r*', xdata,ydata,'g-')\n",
    "plt.plot([0, 2*np.pi], [2, 2], 'b-')\n",
    "plt.plot([0, 2*np.pi], [-2, -2], 'b-')\n",
    "plt.plot([0, 2*np.pi], [2*np.sqrt(2), 2*np.sqrt(2)], 'r-')\n",
    "plt.plot([0, 2*np.pi], [-2*np.sqrt(2), -2*np.sqrt(2)], 'r-')\n",
    "plt.grid()\n",
    "plt.ylabel('CHSH', fontsize=20)\n",
    "plt.xlabel(r'$Y(\\theta)$', fontsize=20)\n",
    "plt.show()"
   ]
  },
  {
   "cell_type": "markdown",
   "metadata": {},
   "source": [
    "## CHSH Graph <a id='section5'></a>\n",
    "\n",
    "The resulting graph above created by running the previous cell compares the *$\\theta$ hidden variable model* (sinusoidal green line),  simulated data (blue circles), and the data from the real experiment (red stars). The graph also gives lines for the limits at $\\pm 2$ (blue) and $\\pm 2\\sqrt{2}$ (red) for reference."
   ]
  },
  {
   "cell_type": "markdown",
   "metadata": {},
   "source": [
    "Here is the saved CHSH data. "
   ]
  },
  {
   "cell_type": "code",
   "execution_count": 213,
   "metadata": {
    "collapsed": false
   },
   "outputs": [
    {
     "name": "stdout",
     "output_type": "stream",
     "text": [
      "[2.048828125, 2.806640625, 2.544921875, 1.357421875, -0.3515625, -1.9296875, -2.84765625, -2.533203125, -1.345703125, 0.443359375]\n"
     ]
    }
   ],
   "source": [
    "print(CHSH_data_real)"
   ]
  },
  {
   "cell_type": "markdown",
   "metadata": {},
   "source": [
    "One can see that this experiment is compatible with quantum mechanics as well as with *$\\theta$ hidden variable* model above. \n",
    "\n",
    "See the original experimental demonstrations of this test with superconducting qubits [here](https://arstechnica.com/science/2017/05/quantum-volume-one-number-to-benchmark-a-quantum-computer/) and [here](https://journals.aps.org/pra/abstract/10.1103/PhysRevA.81.062325)."
   ]
  },
  {
   "cell_type": "markdown",
   "metadata": {},
   "source": [
    "## Closing Remarks <a id='section6'></a>\n",
    "\n",
    "Since the function $P(\\lambda,\\theta_{AB})$ was deduced based on the QM consideration, thus this is not purely classical object. However, one can consider an experimental determination of $P(\\lambda,\\theta_{AB})$ instead. \n",
    "In any case, $P(\\lambda,\\theta_{AB})$ is not quite like the usual probability distributions because: \n",
    "\n",
    "$$\\sum_{\\lambda \\in outcome_{AB}} P(\\lambda,\\theta_{AB})=4$$\n",
    "\n",
    "One can easily see this by considering that $2*QM_{-}Probability(\\theta)+ZX_{-}Probability(\\theta)+XZ_{-}Probability(\\theta)$\n",
    "results in the following expressions $[1+\\cos(\\theta)/2,1-\\cos(\\theta)/2,1-\\cos(\\theta)/2,1+\\cos(\\theta)/2]$ along the ordered list of outcomes  $[00,01,10,11]$. In summary, we have the following table:\n",
    "\n",
    "ZZ-basis| XX-basis  |ZX-basis |XZ-basis| AB-outcome |$P(\\theta_{AB})$\n",
    "------------- | -------------  | -------------  | ------------- | ------------- \n",
    "$0 0$|$+ +$|$0 +$|$+ 0$|$1$|$1+\\cos(\\theta)/2$\n",
    "$0 1$|$+ -$|$0 -$|$+ 1$|$-1$|$1-\\cos(\\theta)/2$ \n",
    "$1 0$|$- +$|$1 +$|$- 0$|$-1$|$1-\\cos(\\theta)/2$  \n",
    "$1 1$|$- -$|$1 -$|$- 1$|$1$|$1+\\cos(\\theta)/2$  \n",
    "\n",
    "\n",
    "This explains the total value of 4 for the earlier sum to be due to summation over four different complete probabilities:\n",
    "\n",
    "$$ZX_{-}Probability(\\theta),\\qquad XZ_{-}Probability(\\theta),\\qquad XX_{-}Probability(\\theta)=ZZ_{-}Probability(\\theta)=QM_{-}Probability(\\theta)$$\n",
    "\n",
    "One can easily verify that these are really well-normalized probabilities: \n",
    "$$\\sum_{\\lambda \\in columm} QM_{-}Probability(\\theta)\n",
    "=\\sum_{\\lambda \\in columm} ZX_{-}Probability(\\theta)\n",
    "=\\sum_{\\lambda \\in columm} XZ_{-}Probability(\\theta)=1.$$\n"
   ]
  },
  {
   "cell_type": "code",
   "execution_count": null,
   "metadata": {
    "collapsed": true
   },
   "outputs": [],
   "source": []
  }
 ],
 "metadata": {
  "anaconda-cloud": {},
  "kernelspec": {
   "display_name": "Python 2",
   "language": "python",
   "name": "python2"
  },
  "language_info": {
   "codemirror_mode": {
    "name": "ipython",
    "version": 2
   },
   "file_extension": ".py",
   "mimetype": "text/x-python",
   "name": "python",
   "nbconvert_exporter": "python",
   "pygments_lexer": "ipython2",
   "version": "2.7.10"
  }
 },
 "nbformat": 4,
 "nbformat_minor": 1
}
