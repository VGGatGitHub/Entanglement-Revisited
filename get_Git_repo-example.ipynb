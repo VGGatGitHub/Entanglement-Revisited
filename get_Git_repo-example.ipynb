{
 "cells": [
  {
   "cell_type": "code",
   "execution_count": null,
   "metadata": {},
   "outputs": [],
   "source": [
    "#run this in the background using the white tringle in the black circle to the left of the plus above \n",
    "#take a look at the file 'get_Git_repo-example-background-results.ipynb'"
   ]
  },
  {
   "cell_type": "code",
   "execution_count": null,
   "metadata": {},
   "outputs": [],
   "source": [
    "%matplotlib inline\n",
    "# Importing standard Qiskit libraries and configuring account\n",
    "from qiskit import QuantumCircuit, execute, Aer, IBMQ\n",
    "from qiskit.compiler import transpile, assemble\n",
    "from qiskit.tools.jupyter import *\n",
    "from qiskit.visualization import *\n",
    "# Loading your IBM Q account(s)\n",
    "provider = IBMQ.load_account()"
   ]
  },
  {
   "cell_type": "code",
   "execution_count": null,
   "metadata": {},
   "outputs": [],
   "source": [
    "#if you need to pull from a private repo ask me for the details to do so \n",
    "RepoName='Entanglement-Revisited'\n",
    "#https://github.com/VGGatGitHub/Entanglement-Revisited\n",
    "RepoURL='https://github.com/VGGatGitHub/'+RepoName+'.git'\n",
    "#you can set up with if file and so on but let's do it quickly by hand!\n",
    "\n",
    "!git clone  https://github.com/VGGatGitHub/Entanglement-Revisited.git\n",
    "#!git pull https://github.com/VGGatGitHub/Entanglement-Revisited.git"
   ]
  },
  {
   "cell_type": "code",
   "execution_count": null,
   "metadata": {},
   "outputs": [],
   "source": [
    "!ls -al"
   ]
  },
  {
   "cell_type": "code",
   "execution_count": null,
   "metadata": {},
   "outputs": [],
   "source": [
    "!ls -al ./Entanglement-Revisited"
   ]
  },
  {
   "cell_type": "code",
   "execution_count": null,
   "metadata": {},
   "outputs": [],
   "source": [
    "#look at where is your browser point now  ... \n",
    "#https://quantum-computing.ibm.com/jupyter/user/get_Git_repo-example.ipynb\n",
    "\n",
    "#in a different window change the nb name for various nbs \n",
    "\n",
    "#to see an html file\n",
    "#https://quantum-computing.ibm.com/jupyter/user/Entanglement-Revisited/Entanglement_Revisited-VGG.html\n",
    "\n",
    "#to open a notebook see below but don't try to run it - the Qisket version is outdated !\n",
    "#https://quantum-computing.ibm.com/jupyter/user/Entanglement-Revisited/Entanglement_Revisited-VGG.ipynb\n",
    "\n",
    "#if you have fixed the dependencies and got it running let me know!"
   ]
  },
  {
   "cell_type": "code",
   "execution_count": null,
   "metadata": {},
   "outputs": [],
   "source": [
    "#uncoment %load line in the next cell at the first run to get the \"hello world\" loaded from first.py "
   ]
  },
  {
   "cell_type": "code",
   "execution_count": null,
   "metadata": {},
   "outputs": [],
   "source": [
    "%load ./Entanglement-Revisited/first.py"
   ]
  },
  {
   "cell_type": "code",
   "execution_count": null,
   "metadata": {},
   "outputs": [],
   "source": [
    "# %load ./Entanglement-Revisited/first.py\n",
    "\n",
    "print(\"hello world\")\n",
    "\n",
    "str=\"*\"\n",
    "for i in range(5):\n",
    "    print(str)\n",
    "    str+=\"*\"  \n"
   ]
  },
  {
   "cell_type": "code",
   "execution_count": null,
   "metadata": {},
   "outputs": [],
   "source": [
    "#rmove the repo!\n",
    "!rm -f -r ./Entanglement-Revisited\n",
    "!ls -al ./Entanglement-Revisited\n",
    "!ls -al "
   ]
  },
  {
   "cell_type": "code",
   "execution_count": null,
   "metadata": {},
   "outputs": [],
   "source": []
  }
 ],
 "metadata": {
  "kernelspec": {
   "display_name": "Python 3",
   "language": "python",
   "name": "python3"
  },
  "language_info": {
   "codemirror_mode": {
    "name": "ipython",
    "version": 3
   },
   "file_extension": ".py",
   "mimetype": "text/x-python",
   "name": "python",
   "nbconvert_exporter": "python",
   "pygments_lexer": "ipython3",
   "version": "3.7.8"
  }
 },
 "nbformat": 4,
 "nbformat_minor": 4
}
